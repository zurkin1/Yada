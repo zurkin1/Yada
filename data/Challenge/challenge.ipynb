{
 "cells": [
  {
   "cell_type": "markdown",
   "metadata": {
    "id": "_Fh3BwMNdzYP"
   },
   "source": [
    "# Yada Deconvolution Result\n",
    "\n",
    "---\n",
    "\n",
    "- Run the following cells for deconvolution using Yada.\n",
    "\n",
    "## 1 - Import prerequisites"
   ]
  },
  {
   "cell_type": "code",
   "execution_count": 1,
   "metadata": {
    "colab": {
     "base_uri": "https://localhost:8080/"
    },
    "id": "GE9Tg1H1dzYS",
    "outputId": "4d5d91e3-29ef-4057-cb4a-5a8825589776"
   },
   "outputs": [],
   "source": [
    "from IPython.display import FileLink, FileLinks\n",
    "import pandas as pd\n",
    "\n",
    "pd.set_option('display.max_columns', 500)\n",
    "pd.set_option('display.width', 10000)"
   ]
  },
  {
   "cell_type": "code",
   "execution_count": 15,
   "metadata": {
    "colab": {
     "base_uri": "https://localhost:8080/",
     "height": 424
    },
    "id": "4S_qa1O-lRPF",
    "outputId": "63dd055d-ac57-4062-d60a-a9ea77e12ace"
   },
   "outputs": [
    {
     "name": "stderr",
     "output_type": "stream",
     "text": [
      "WARNING: Skipping kaleido as it is not installed.\n"
     ]
    }
   ],
   "source": [
    "!pip install -U kaleido==0.1.0post1"
   ]
  },
  {
   "cell_type": "code",
   "execution_count": 2,
   "metadata": {
    "colab": {
     "base_uri": "https://localhost:8080/",
     "height": 542
    },
    "id": "UzGBtF2grSJG",
    "outputId": "34df950d-63fe-493b-c5a6-c026d0b68282"
   },
   "outputs": [
    {
     "data": {
      "application/vnd.plotly.v1+json": {
       "config": {
        "plotlyServerURL": "https://plot.ly"
       },
       "data": [
        {
         "alignmentgroup": "True",
         "boxpoints": "all",
         "hovertemplate": "<b>%{hovertext}</b><br><br>mcolour=#EF553B<br>celltype=%{x}<br>metric_value=%{y}<extra></extra>",
         "hovertext": [
          "Aboensis IV",
          "Aboensis IV",
          "Aboensis IV",
          "Aboensis IV",
          "Aboensis IV",
          "Aboensis IV",
          "Aboensis IV",
          "Aboensis IV",
          "Aboensis IV",
          "Aboensis IV",
          "Aboensis IV",
          "Aboensis IV",
          "Aginome-XMU",
          "Aginome-XMU",
          "Aginome-XMU",
          "Aginome-XMU",
          "Aginome-XMU",
          "Aginome-XMU",
          "Aginome-XMU",
          "Aginome-XMU",
          "Aginome-XMU",
          "Aginome-XMU",
          "Aginome-XMU",
          "Aginome-XMU",
          "CCB",
          "CCB",
          "CCB",
          "CCB",
          "CCB",
          "CCB",
          "CCB",
          "CCB",
          "CCB",
          "CCB",
          "CCB",
          "CCB",
          "Cancer_Decon",
          "Cancer_Decon",
          "Cancer_Decon",
          "Cancer_Decon",
          "Cancer_Decon",
          "Cancer_Decon",
          "Cancer_Decon",
          "Cancer_Decon",
          "Cancer_Decon",
          "Cancer_Decon",
          "Cancer_Decon",
          "Cancer_Decon",
          "DA_505",
          "DA_505",
          "DA_505",
          "DA_505",
          "DA_505",
          "DA_505",
          "DA_505",
          "DA_505",
          "DA_505",
          "DA_505",
          "DA_505",
          "DA_505",
          "ICTD",
          "ICTD",
          "ICTD",
          "ICTD",
          "ICTD",
          "ICTD",
          "ICTD",
          "ICTD",
          "ICTD",
          "ICTD",
          "ICTD",
          "ICTD",
          "IZI",
          "IZI",
          "IZI",
          "IZI",
          "IZI",
          "IZI",
          "IZI",
          "IZI",
          "IZI",
          "IZI",
          "IZI",
          "IZI",
          "LeiliLab",
          "LeiliLab",
          "LeiliLab",
          "LeiliLab",
          "LeiliLab",
          "LeiliLab",
          "LeiliLab",
          "LeiliLab",
          "LeiliLab",
          "LeiliLab",
          "LeiliLab",
          "LeiliLab",
          "Northwestern Polytechnical University",
          "Northwestern Polytechnical University",
          "Northwestern Polytechnical University",
          "Northwestern Polytechnical University",
          "Northwestern Polytechnical University",
          "Northwestern Polytechnical University",
          "Northwestern Polytechnical University",
          "Northwestern Polytechnical University",
          "Northwestern Polytechnical University",
          "Northwestern Polytechnical University",
          "Northwestern Polytechnical University",
          "Northwestern Polytechnical University",
          "REGGEN_LAB",
          "REGGEN_LAB",
          "REGGEN_LAB",
          "REGGEN_LAB",
          "REGGEN_LAB",
          "REGGEN_LAB",
          "REGGEN_LAB",
          "REGGEN_LAB",
          "REGGEN_LAB",
          "REGGEN_LAB",
          "REGGEN_LAB",
          "REGGEN_LAB",
          "Rubbernecks",
          "Rubbernecks",
          "Rubbernecks",
          "Rubbernecks",
          "Rubbernecks",
          "Rubbernecks",
          "Rubbernecks",
          "Rubbernecks",
          "Rubbernecks",
          "Rubbernecks",
          "Rubbernecks",
          "Rubbernecks",
          "Tonys Boys",
          "Tonys Boys",
          "Tonys Boys",
          "Tonys Boys",
          "Tonys Boys",
          "Tonys Boys",
          "Tonys Boys",
          "Tonys Boys",
          "Tonys Boys",
          "Tonys Boys",
          "Tonys Boys",
          "Tonys Boys",
          "VUmc_TGAC",
          "VUmc_TGAC",
          "VUmc_TGAC",
          "VUmc_TGAC",
          "VUmc_TGAC",
          "VUmc_TGAC",
          "VUmc_TGAC",
          "VUmc_TGAC",
          "VUmc_TGAC",
          "VUmc_TGAC",
          "VUmc_TGAC",
          "VUmc_TGAC",
          "andrewelamb",
          "andrewelamb",
          "andrewelamb",
          "andrewelamb",
          "andrewelamb",
          "andrewelamb",
          "andrewelamb",
          "andrewelamb",
          "andrewelamb",
          "andrewelamb",
          "andrewelamb",
          "andrewelamb",
          "mitten_TDC19",
          "mitten_TDC19",
          "mitten_TDC19",
          "mitten_TDC19",
          "mitten_TDC19",
          "mitten_TDC19",
          "mitten_TDC19",
          "mitten_TDC19",
          "mitten_TDC19",
          "mitten_TDC19",
          "mitten_TDC19",
          "mitten_TDC19"
         ],
         "legendgroup": "#EF553B",
         "marker": {
          "color": "#636efa"
         },
         "name": "#EF553B",
         "notched": false,
         "offsetgroup": "#EF553B",
         "orientation": "v",
         "showlegend": true,
         "type": "box",
         "x": [
          "NK.cells",
          "macrophages",
          "memory.B.cells",
          "memory.CD4.T.cells",
          "memory.CD8.T.cells",
          "monocytes",
          "myeloid.dendritic.cells",
          "naive.B.cells",
          "naive.CD4.T.cells",
          "naive.CD8.T.cells",
          "neutrophils",
          "regulatory.T.cells",
          "NK.cells",
          "macrophages",
          "memory.B.cells",
          "memory.CD4.T.cells",
          "memory.CD8.T.cells",
          "monocytes",
          "myeloid.dendritic.cells",
          "naive.B.cells",
          "naive.CD4.T.cells",
          "naive.CD8.T.cells",
          "neutrophils",
          "regulatory.T.cells",
          "NK.cells",
          "macrophages",
          "memory.B.cells",
          "memory.CD4.T.cells",
          "memory.CD8.T.cells",
          "monocytes",
          "myeloid.dendritic.cells",
          "naive.B.cells",
          "naive.CD4.T.cells",
          "naive.CD8.T.cells",
          "neutrophils",
          "regulatory.T.cells",
          "NK.cells",
          "macrophages",
          "memory.B.cells",
          "memory.CD4.T.cells",
          "memory.CD8.T.cells",
          "monocytes",
          "myeloid.dendritic.cells",
          "naive.B.cells",
          "naive.CD4.T.cells",
          "naive.CD8.T.cells",
          "neutrophils",
          "regulatory.T.cells",
          "NK.cells",
          "macrophages",
          "memory.B.cells",
          "memory.CD4.T.cells",
          "memory.CD8.T.cells",
          "monocytes",
          "myeloid.dendritic.cells",
          "naive.B.cells",
          "naive.CD4.T.cells",
          "naive.CD8.T.cells",
          "neutrophils",
          "regulatory.T.cells",
          "NK.cells",
          "macrophages",
          "memory.B.cells",
          "memory.CD4.T.cells",
          "memory.CD8.T.cells",
          "monocytes",
          "myeloid.dendritic.cells",
          "naive.B.cells",
          "naive.CD4.T.cells",
          "naive.CD8.T.cells",
          "neutrophils",
          "regulatory.T.cells",
          "NK.cells",
          "macrophages",
          "memory.B.cells",
          "memory.CD4.T.cells",
          "memory.CD8.T.cells",
          "monocytes",
          "myeloid.dendritic.cells",
          "naive.B.cells",
          "naive.CD4.T.cells",
          "naive.CD8.T.cells",
          "neutrophils",
          "regulatory.T.cells",
          "NK.cells",
          "macrophages",
          "memory.B.cells",
          "memory.CD4.T.cells",
          "memory.CD8.T.cells",
          "monocytes",
          "myeloid.dendritic.cells",
          "naive.B.cells",
          "naive.CD4.T.cells",
          "naive.CD8.T.cells",
          "neutrophils",
          "regulatory.T.cells",
          "NK.cells",
          "macrophages",
          "memory.B.cells",
          "memory.CD4.T.cells",
          "memory.CD8.T.cells",
          "monocytes",
          "myeloid.dendritic.cells",
          "naive.B.cells",
          "naive.CD4.T.cells",
          "naive.CD8.T.cells",
          "neutrophils",
          "regulatory.T.cells",
          "NK.cells",
          "macrophages",
          "memory.B.cells",
          "memory.CD4.T.cells",
          "memory.CD8.T.cells",
          "monocytes",
          "myeloid.dendritic.cells",
          "naive.B.cells",
          "naive.CD4.T.cells",
          "naive.CD8.T.cells",
          "neutrophils",
          "regulatory.T.cells",
          "NK.cells",
          "macrophages",
          "memory.B.cells",
          "memory.CD4.T.cells",
          "memory.CD8.T.cells",
          "monocytes",
          "myeloid.dendritic.cells",
          "naive.B.cells",
          "naive.CD4.T.cells",
          "naive.CD8.T.cells",
          "neutrophils",
          "regulatory.T.cells",
          "NK.cells",
          "macrophages",
          "memory.B.cells",
          "memory.CD4.T.cells",
          "memory.CD8.T.cells",
          "monocytes",
          "myeloid.dendritic.cells",
          "naive.B.cells",
          "naive.CD4.T.cells",
          "naive.CD8.T.cells",
          "neutrophils",
          "regulatory.T.cells",
          "NK.cells",
          "macrophages",
          "memory.B.cells",
          "memory.CD4.T.cells",
          "memory.CD8.T.cells",
          "monocytes",
          "myeloid.dendritic.cells",
          "naive.B.cells",
          "naive.CD4.T.cells",
          "naive.CD8.T.cells",
          "neutrophils",
          "regulatory.T.cells",
          "NK.cells",
          "macrophages",
          "memory.B.cells",
          "memory.CD4.T.cells",
          "memory.CD8.T.cells",
          "monocytes",
          "myeloid.dendritic.cells",
          "naive.B.cells",
          "naive.CD4.T.cells",
          "naive.CD8.T.cells",
          "neutrophils",
          "regulatory.T.cells",
          "NK.cells",
          "macrophages",
          "memory.B.cells",
          "memory.CD4.T.cells",
          "memory.CD8.T.cells",
          "monocytes",
          "myeloid.dendritic.cells",
          "naive.B.cells",
          "naive.CD4.T.cells",
          "naive.CD8.T.cells",
          "neutrophils",
          "regulatory.T.cells"
         ],
         "x0": " ",
         "xaxis": "x",
         "y": [
          0.717,
          0.136,
          0.3575,
          0.897,
          0.308,
          0.54025,
          0.544,
          0.942,
          0.495,
          0.7685,
          0.60075,
          0.345,
          0.8562,
          0.605,
          0.55,
          0.663,
          0.51,
          0.8664999999999999,
          0.92275,
          0.9855,
          0.59,
          0.714,
          0.66025,
          0.8,
          0.6524,
          0.847,
          0.722,
          0.81,
          0.735,
          0.85525,
          0.57475,
          0.927,
          0.388,
          0.314,
          0.73425,
          0.978,
          0.6756,
          0.713,
          0.537,
          0.858,
          0.2495,
          0.8007500000000001,
          0.76725,
          0.8975,
          0.289,
          0.1915,
          0.4325,
          0.992,
          0.8202,
          0.789,
          0.66,
          0.948,
          0.7725,
          0.9175,
          0.7789999999999999,
          0.9724999999999999,
          0.814,
          0.5765,
          0.75425,
          0.859,
          0.6756,
          0.713,
          0.537,
          0.858,
          0.2495,
          0.8007500000000001,
          0.76725,
          0.8975,
          0.289,
          0.1915,
          0.4325,
          0.992,
          0.0948,
          0.773,
          0.491,
          0.41,
          0.3335,
          0.55875,
          0.7965,
          0.497,
          0.177,
          -0.0505,
          0.7975,
          0.571,
          0.6288,
          0.604,
          0.0615,
          0.645,
          0.315,
          0.675,
          0.78075,
          0,
          0.28,
          0.8334999999999999,
          0.682,
          0.876,
          -0.04979999999999999,
          0.297,
          0,
          0,
          0.5945,
          0.32225000000000004,
          0.319,
          0.223,
          0,
          0.257,
          0.2875,
          0.049,
          0.47640000000000005,
          0.485,
          0.14100000000000001,
          -0.035,
          0.18000000000000002,
          0.5017499999999999,
          -0.023249999999999993,
          0.6890000000000001,
          -0.301,
          0.21649999999999997,
          0.4065,
          0.407,
          0.7028,
          0.844,
          0.36950000000000005,
          0.87,
          0.6805,
          0.67575,
          0.7565000000000001,
          0.0705,
          0.312,
          0.2345,
          0.5529999999999999,
          0.365,
          0.7342000000000001,
          0.652,
          0.7065,
          -0.136,
          0.8069999999999999,
          0.434,
          0.647,
          0.982,
          0.317,
          0.8400000000000001,
          0,
          0.98,
          0.44000000000000006,
          0.409,
          0.46249999999999997,
          0.903,
          0.2935,
          0.38425,
          0.26675,
          0.392,
          0.111,
          0.12100000000000001,
          0.264,
          0.288,
          0.7904,
          0.759,
          0.9405,
          0.93,
          0.4165,
          0.8999999999999999,
          0.65675,
          0.9864999999999999,
          0.647,
          0.07600000000000001,
          0.72725,
          0.805,
          0.7604,
          0.581,
          0.3845,
          -0.002,
          0.6659999999999999,
          0.8707499999999999,
          0.584,
          0.6739999999999999,
          0.295,
          0.5255,
          0.83175,
          0.107
         ],
         "y0": " ",
         "yaxis": "y"
        },
        {
         "alignmentgroup": "True",
         "boxpoints": "all",
         "hovertemplate": "<b>%{hovertext}</b><br><br>mcolour=#636EFA<br>celltype=%{x}<br>metric_value=%{y}<extra></extra>",
         "hovertext": [
          "D3Team",
          "D3Team",
          "D3Team",
          "D3Team",
          "D3Team",
          "D3Team",
          "D3Team",
          "D3Team",
          "D3Team",
          "D3Team",
          "D3Team",
          "D3Team"
         ],
         "legendgroup": "#636EFA",
         "marker": {
          "color": "#EF553B"
         },
         "name": "#636EFA",
         "notched": false,
         "offsetgroup": "#636EFA",
         "orientation": "v",
         "showlegend": true,
         "type": "box",
         "x": [
          "NK.cells",
          "macrophages",
          "memory.B.cells",
          "memory.CD4.T.cells",
          "memory.CD8.T.cells",
          "monocytes",
          "myeloid.dendritic.cells",
          "naive.B.cells",
          "naive.CD4.T.cells",
          "naive.CD8.T.cells",
          "neutrophils",
          "regulatory.T.cells"
         ],
         "x0": " ",
         "xaxis": "x",
         "y": [
          0.7762,
          0.75,
          0.23600000000000002,
          0.678,
          0.8275,
          0.85775,
          0.85875,
          0.956,
          0.424,
          0.558,
          0.64575,
          0.984
         ],
         "y0": " ",
         "yaxis": "y"
        }
       ],
       "layout": {
        "boxmode": "group",
        "font": {
         "size": 24
        },
        "height": 4000,
        "legend": {
         "title": {
          "text": "mcolour"
         },
         "tracegroupgap": 0
        },
        "margin": {
         "t": 60
        },
        "template": {
         "data": {
          "bar": [
           {
            "error_x": {
             "color": "#2a3f5f"
            },
            "error_y": {
             "color": "#2a3f5f"
            },
            "marker": {
             "line": {
              "color": "#E5ECF6",
              "width": 0.5
             },
             "pattern": {
              "fillmode": "overlay",
              "size": 10,
              "solidity": 0.2
             }
            },
            "type": "bar"
           }
          ],
          "barpolar": [
           {
            "marker": {
             "line": {
              "color": "#E5ECF6",
              "width": 0.5
             },
             "pattern": {
              "fillmode": "overlay",
              "size": 10,
              "solidity": 0.2
             }
            },
            "type": "barpolar"
           }
          ],
          "carpet": [
           {
            "aaxis": {
             "endlinecolor": "#2a3f5f",
             "gridcolor": "white",
             "linecolor": "white",
             "minorgridcolor": "white",
             "startlinecolor": "#2a3f5f"
            },
            "baxis": {
             "endlinecolor": "#2a3f5f",
             "gridcolor": "white",
             "linecolor": "white",
             "minorgridcolor": "white",
             "startlinecolor": "#2a3f5f"
            },
            "type": "carpet"
           }
          ],
          "choropleth": [
           {
            "colorbar": {
             "outlinewidth": 0,
             "ticks": ""
            },
            "type": "choropleth"
           }
          ],
          "contour": [
           {
            "colorbar": {
             "outlinewidth": 0,
             "ticks": ""
            },
            "colorscale": [
             [
              0,
              "#0d0887"
             ],
             [
              0.1111111111111111,
              "#46039f"
             ],
             [
              0.2222222222222222,
              "#7201a8"
             ],
             [
              0.3333333333333333,
              "#9c179e"
             ],
             [
              0.4444444444444444,
              "#bd3786"
             ],
             [
              0.5555555555555556,
              "#d8576b"
             ],
             [
              0.6666666666666666,
              "#ed7953"
             ],
             [
              0.7777777777777778,
              "#fb9f3a"
             ],
             [
              0.8888888888888888,
              "#fdca26"
             ],
             [
              1,
              "#f0f921"
             ]
            ],
            "type": "contour"
           }
          ],
          "contourcarpet": [
           {
            "colorbar": {
             "outlinewidth": 0,
             "ticks": ""
            },
            "type": "contourcarpet"
           }
          ],
          "heatmap": [
           {
            "colorbar": {
             "outlinewidth": 0,
             "ticks": ""
            },
            "colorscale": [
             [
              0,
              "#0d0887"
             ],
             [
              0.1111111111111111,
              "#46039f"
             ],
             [
              0.2222222222222222,
              "#7201a8"
             ],
             [
              0.3333333333333333,
              "#9c179e"
             ],
             [
              0.4444444444444444,
              "#bd3786"
             ],
             [
              0.5555555555555556,
              "#d8576b"
             ],
             [
              0.6666666666666666,
              "#ed7953"
             ],
             [
              0.7777777777777778,
              "#fb9f3a"
             ],
             [
              0.8888888888888888,
              "#fdca26"
             ],
             [
              1,
              "#f0f921"
             ]
            ],
            "type": "heatmap"
           }
          ],
          "heatmapgl": [
           {
            "colorbar": {
             "outlinewidth": 0,
             "ticks": ""
            },
            "colorscale": [
             [
              0,
              "#0d0887"
             ],
             [
              0.1111111111111111,
              "#46039f"
             ],
             [
              0.2222222222222222,
              "#7201a8"
             ],
             [
              0.3333333333333333,
              "#9c179e"
             ],
             [
              0.4444444444444444,
              "#bd3786"
             ],
             [
              0.5555555555555556,
              "#d8576b"
             ],
             [
              0.6666666666666666,
              "#ed7953"
             ],
             [
              0.7777777777777778,
              "#fb9f3a"
             ],
             [
              0.8888888888888888,
              "#fdca26"
             ],
             [
              1,
              "#f0f921"
             ]
            ],
            "type": "heatmapgl"
           }
          ],
          "histogram": [
           {
            "marker": {
             "pattern": {
              "fillmode": "overlay",
              "size": 10,
              "solidity": 0.2
             }
            },
            "type": "histogram"
           }
          ],
          "histogram2d": [
           {
            "colorbar": {
             "outlinewidth": 0,
             "ticks": ""
            },
            "colorscale": [
             [
              0,
              "#0d0887"
             ],
             [
              0.1111111111111111,
              "#46039f"
             ],
             [
              0.2222222222222222,
              "#7201a8"
             ],
             [
              0.3333333333333333,
              "#9c179e"
             ],
             [
              0.4444444444444444,
              "#bd3786"
             ],
             [
              0.5555555555555556,
              "#d8576b"
             ],
             [
              0.6666666666666666,
              "#ed7953"
             ],
             [
              0.7777777777777778,
              "#fb9f3a"
             ],
             [
              0.8888888888888888,
              "#fdca26"
             ],
             [
              1,
              "#f0f921"
             ]
            ],
            "type": "histogram2d"
           }
          ],
          "histogram2dcontour": [
           {
            "colorbar": {
             "outlinewidth": 0,
             "ticks": ""
            },
            "colorscale": [
             [
              0,
              "#0d0887"
             ],
             [
              0.1111111111111111,
              "#46039f"
             ],
             [
              0.2222222222222222,
              "#7201a8"
             ],
             [
              0.3333333333333333,
              "#9c179e"
             ],
             [
              0.4444444444444444,
              "#bd3786"
             ],
             [
              0.5555555555555556,
              "#d8576b"
             ],
             [
              0.6666666666666666,
              "#ed7953"
             ],
             [
              0.7777777777777778,
              "#fb9f3a"
             ],
             [
              0.8888888888888888,
              "#fdca26"
             ],
             [
              1,
              "#f0f921"
             ]
            ],
            "type": "histogram2dcontour"
           }
          ],
          "mesh3d": [
           {
            "colorbar": {
             "outlinewidth": 0,
             "ticks": ""
            },
            "type": "mesh3d"
           }
          ],
          "parcoords": [
           {
            "line": {
             "colorbar": {
              "outlinewidth": 0,
              "ticks": ""
             }
            },
            "type": "parcoords"
           }
          ],
          "pie": [
           {
            "automargin": true,
            "type": "pie"
           }
          ],
          "scatter": [
           {
            "fillpattern": {
             "fillmode": "overlay",
             "size": 10,
             "solidity": 0.2
            },
            "type": "scatter"
           }
          ],
          "scatter3d": [
           {
            "line": {
             "colorbar": {
              "outlinewidth": 0,
              "ticks": ""
             }
            },
            "marker": {
             "colorbar": {
              "outlinewidth": 0,
              "ticks": ""
             }
            },
            "type": "scatter3d"
           }
          ],
          "scattercarpet": [
           {
            "marker": {
             "colorbar": {
              "outlinewidth": 0,
              "ticks": ""
             }
            },
            "type": "scattercarpet"
           }
          ],
          "scattergeo": [
           {
            "marker": {
             "colorbar": {
              "outlinewidth": 0,
              "ticks": ""
             }
            },
            "type": "scattergeo"
           }
          ],
          "scattergl": [
           {
            "marker": {
             "colorbar": {
              "outlinewidth": 0,
              "ticks": ""
             }
            },
            "type": "scattergl"
           }
          ],
          "scattermapbox": [
           {
            "marker": {
             "colorbar": {
              "outlinewidth": 0,
              "ticks": ""
             }
            },
            "type": "scattermapbox"
           }
          ],
          "scatterpolar": [
           {
            "marker": {
             "colorbar": {
              "outlinewidth": 0,
              "ticks": ""
             }
            },
            "type": "scatterpolar"
           }
          ],
          "scatterpolargl": [
           {
            "marker": {
             "colorbar": {
              "outlinewidth": 0,
              "ticks": ""
             }
            },
            "type": "scatterpolargl"
           }
          ],
          "scatterternary": [
           {
            "marker": {
             "colorbar": {
              "outlinewidth": 0,
              "ticks": ""
             }
            },
            "type": "scatterternary"
           }
          ],
          "surface": [
           {
            "colorbar": {
             "outlinewidth": 0,
             "ticks": ""
            },
            "colorscale": [
             [
              0,
              "#0d0887"
             ],
             [
              0.1111111111111111,
              "#46039f"
             ],
             [
              0.2222222222222222,
              "#7201a8"
             ],
             [
              0.3333333333333333,
              "#9c179e"
             ],
             [
              0.4444444444444444,
              "#bd3786"
             ],
             [
              0.5555555555555556,
              "#d8576b"
             ],
             [
              0.6666666666666666,
              "#ed7953"
             ],
             [
              0.7777777777777778,
              "#fb9f3a"
             ],
             [
              0.8888888888888888,
              "#fdca26"
             ],
             [
              1,
              "#f0f921"
             ]
            ],
            "type": "surface"
           }
          ],
          "table": [
           {
            "cells": {
             "fill": {
              "color": "#EBF0F8"
             },
             "line": {
              "color": "white"
             }
            },
            "header": {
             "fill": {
              "color": "#C8D4E3"
             },
             "line": {
              "color": "white"
             }
            },
            "type": "table"
           }
          ]
         },
         "layout": {
          "annotationdefaults": {
           "arrowcolor": "#2a3f5f",
           "arrowhead": 0,
           "arrowwidth": 1
          },
          "autotypenumbers": "strict",
          "coloraxis": {
           "colorbar": {
            "outlinewidth": 0,
            "ticks": ""
           }
          },
          "colorscale": {
           "diverging": [
            [
             0,
             "#8e0152"
            ],
            [
             0.1,
             "#c51b7d"
            ],
            [
             0.2,
             "#de77ae"
            ],
            [
             0.3,
             "#f1b6da"
            ],
            [
             0.4,
             "#fde0ef"
            ],
            [
             0.5,
             "#f7f7f7"
            ],
            [
             0.6,
             "#e6f5d0"
            ],
            [
             0.7,
             "#b8e186"
            ],
            [
             0.8,
             "#7fbc41"
            ],
            [
             0.9,
             "#4d9221"
            ],
            [
             1,
             "#276419"
            ]
           ],
           "sequential": [
            [
             0,
             "#0d0887"
            ],
            [
             0.1111111111111111,
             "#46039f"
            ],
            [
             0.2222222222222222,
             "#7201a8"
            ],
            [
             0.3333333333333333,
             "#9c179e"
            ],
            [
             0.4444444444444444,
             "#bd3786"
            ],
            [
             0.5555555555555556,
             "#d8576b"
            ],
            [
             0.6666666666666666,
             "#ed7953"
            ],
            [
             0.7777777777777778,
             "#fb9f3a"
            ],
            [
             0.8888888888888888,
             "#fdca26"
            ],
            [
             1,
             "#f0f921"
            ]
           ],
           "sequentialminus": [
            [
             0,
             "#0d0887"
            ],
            [
             0.1111111111111111,
             "#46039f"
            ],
            [
             0.2222222222222222,
             "#7201a8"
            ],
            [
             0.3333333333333333,
             "#9c179e"
            ],
            [
             0.4444444444444444,
             "#bd3786"
            ],
            [
             0.5555555555555556,
             "#d8576b"
            ],
            [
             0.6666666666666666,
             "#ed7953"
            ],
            [
             0.7777777777777778,
             "#fb9f3a"
            ],
            [
             0.8888888888888888,
             "#fdca26"
            ],
            [
             1,
             "#f0f921"
            ]
           ]
          },
          "colorway": [
           "#636efa",
           "#EF553B",
           "#00cc96",
           "#ab63fa",
           "#FFA15A",
           "#19d3f3",
           "#FF6692",
           "#B6E880",
           "#FF97FF",
           "#FECB52"
          ],
          "font": {
           "color": "#2a3f5f"
          },
          "geo": {
           "bgcolor": "white",
           "lakecolor": "white",
           "landcolor": "#E5ECF6",
           "showlakes": true,
           "showland": true,
           "subunitcolor": "white"
          },
          "hoverlabel": {
           "align": "left"
          },
          "hovermode": "closest",
          "mapbox": {
           "style": "light"
          },
          "paper_bgcolor": "white",
          "plot_bgcolor": "#E5ECF6",
          "polar": {
           "angularaxis": {
            "gridcolor": "white",
            "linecolor": "white",
            "ticks": ""
           },
           "bgcolor": "#E5ECF6",
           "radialaxis": {
            "gridcolor": "white",
            "linecolor": "white",
            "ticks": ""
           }
          },
          "scene": {
           "xaxis": {
            "backgroundcolor": "#E5ECF6",
            "gridcolor": "white",
            "gridwidth": 2,
            "linecolor": "white",
            "showbackground": true,
            "ticks": "",
            "zerolinecolor": "white"
           },
           "yaxis": {
            "backgroundcolor": "#E5ECF6",
            "gridcolor": "white",
            "gridwidth": 2,
            "linecolor": "white",
            "showbackground": true,
            "ticks": "",
            "zerolinecolor": "white"
           },
           "zaxis": {
            "backgroundcolor": "#E5ECF6",
            "gridcolor": "white",
            "gridwidth": 2,
            "linecolor": "white",
            "showbackground": true,
            "ticks": "",
            "zerolinecolor": "white"
           }
          },
          "shapedefaults": {
           "line": {
            "color": "#2a3f5f"
           }
          },
          "ternary": {
           "aaxis": {
            "gridcolor": "white",
            "linecolor": "white",
            "ticks": ""
           },
           "baxis": {
            "gridcolor": "white",
            "linecolor": "white",
            "ticks": ""
           },
           "bgcolor": "#E5ECF6",
           "caxis": {
            "gridcolor": "white",
            "linecolor": "white",
            "ticks": ""
           }
          },
          "title": {
           "x": 0.05
          },
          "xaxis": {
           "automargin": true,
           "gridcolor": "white",
           "linecolor": "white",
           "ticks": "",
           "title": {
            "standoff": 15
           },
           "zerolinecolor": "white",
           "zerolinewidth": 2
          },
          "yaxis": {
           "automargin": true,
           "gridcolor": "white",
           "linecolor": "white",
           "ticks": "",
           "title": {
            "standoff": 15
           },
           "zerolinecolor": "white",
           "zerolinewidth": 2
          }
         }
        },
        "width": 6000,
        "xaxis": {
         "anchor": "y",
         "domain": [
          0,
          1
         ],
         "title": {
          "text": "celltype"
         }
        },
        "yaxis": {
         "anchor": "x",
         "domain": [
          0,
          1
         ],
         "title": {
          "text": "metric_value"
         }
        }
       }
      }
     },
     "metadata": {},
     "output_type": "display_data"
    }
   ],
   "source": [
    "import pandas as pd\n",
    "import plotly.express as px\n",
    "import numpy as np\n",
    "import plotly.io as pio\n",
    "\n",
    "\n",
    "df = pd.read_csv('./r3-fine.csv')\n",
    "df = df.loc[df.is_latest]\n",
    "df = df.loc[df.metric == 'pearson']\n",
    "df = df.groupby(['submitter', 'celltype']).mean(numeric_only=True)\n",
    "df = df.reset_index()\n",
    "#df = df.loc[df.submitter == 'D3Team']\n",
    "#Creating a new column with colors.\n",
    "df['mcolour'] = np.where(df.submitter == 'D3Team', '#636EFA', '#EF553B')\n",
    "fig = px.box(df.reset_index(), y = 'metric_value', x = 'celltype', hover_name = 'submitter', points = 'all', height=4000, width=6000, color = 'mcolour')\n",
    "# Set font size for text\n",
    "fig.update_layout(font=dict(size=24))  # Adjust the font size as needed\n",
    "fig.show()"
   ]
  },
  {
   "cell_type": "code",
   "execution_count": 6,
   "metadata": {},
   "outputs": [],
   "source": [
    "# Export to SVG\n",
    "pio.write_image(fig, 'c:\\\\Users\\\\danili\\\\Documents\\\\GitHub\\\\Yada\\\\data\\\\Challenge\\\\histogram.svg', height=4000, width=6000, format='svg')"
   ]
  },
  {
   "cell_type": "code",
   "execution_count": 5,
   "metadata": {},
   "outputs": [
    {
     "data": {
      "text/html": [
       "<div>\n",
       "<style scoped>\n",
       "    .dataframe tbody tr th:only-of-type {\n",
       "        vertical-align: middle;\n",
       "    }\n",
       "\n",
       "    .dataframe tbody tr th {\n",
       "        vertical-align: top;\n",
       "    }\n",
       "\n",
       "    .dataframe thead th {\n",
       "        text-align: right;\n",
       "    }\n",
       "</style>\n",
       "<table border=\"1\" class=\"dataframe\">\n",
       "  <thead>\n",
       "    <tr style=\"text-align: right;\">\n",
       "      <th></th>\n",
       "      <th>submitter</th>\n",
       "      <th>celltype</th>\n",
       "      <th>ROW_ID</th>\n",
       "      <th>ROW_VERSION</th>\n",
       "      <th>objectId</th>\n",
       "      <th>submitterId</th>\n",
       "      <th>is_latest</th>\n",
       "      <th>metric_value</th>\n",
       "      <th>mcolour</th>\n",
       "    </tr>\n",
       "  </thead>\n",
       "  <tbody>\n",
       "    <tr>\n",
       "      <th>0</th>\n",
       "      <td>Aboensis IV</td>\n",
       "      <td>NK.cells</td>\n",
       "      <td>1019.40</td>\n",
       "      <td>1.0</td>\n",
       "      <td>9696229.0</td>\n",
       "      <td>3390884.0</td>\n",
       "      <td>1.0</td>\n",
       "      <td>0.71700</td>\n",
       "      <td>#EF553B</td>\n",
       "    </tr>\n",
       "    <tr>\n",
       "      <th>1</th>\n",
       "      <td>Aboensis IV</td>\n",
       "      <td>macrophages</td>\n",
       "      <td>356.00</td>\n",
       "      <td>1.0</td>\n",
       "      <td>9696229.0</td>\n",
       "      <td>3390884.0</td>\n",
       "      <td>1.0</td>\n",
       "      <td>0.13600</td>\n",
       "      <td>#EF553B</td>\n",
       "    </tr>\n",
       "    <tr>\n",
       "      <th>2</th>\n",
       "      <td>Aboensis IV</td>\n",
       "      <td>memory.B.cells</td>\n",
       "      <td>1007.00</td>\n",
       "      <td>1.0</td>\n",
       "      <td>9696229.0</td>\n",
       "      <td>3390884.0</td>\n",
       "      <td>1.0</td>\n",
       "      <td>0.35750</td>\n",
       "      <td>#EF553B</td>\n",
       "    </tr>\n",
       "    <tr>\n",
       "      <th>3</th>\n",
       "      <td>Aboensis IV</td>\n",
       "      <td>memory.CD4.T.cells</td>\n",
       "      <td>1441.00</td>\n",
       "      <td>1.0</td>\n",
       "      <td>9696229.0</td>\n",
       "      <td>3390884.0</td>\n",
       "      <td>1.0</td>\n",
       "      <td>0.89700</td>\n",
       "      <td>#EF553B</td>\n",
       "    </tr>\n",
       "    <tr>\n",
       "      <th>4</th>\n",
       "      <td>Aboensis IV</td>\n",
       "      <td>memory.CD8.T.cells</td>\n",
       "      <td>340.50</td>\n",
       "      <td>1.0</td>\n",
       "      <td>9696229.0</td>\n",
       "      <td>3390884.0</td>\n",
       "      <td>1.0</td>\n",
       "      <td>0.30800</td>\n",
       "      <td>#EF553B</td>\n",
       "    </tr>\n",
       "    <tr>\n",
       "      <th>...</th>\n",
       "      <td>...</td>\n",
       "      <td>...</td>\n",
       "      <td>...</td>\n",
       "      <td>...</td>\n",
       "      <td>...</td>\n",
       "      <td>...</td>\n",
       "      <td>...</td>\n",
       "      <td>...</td>\n",
       "      <td>...</td>\n",
       "    </tr>\n",
       "    <tr>\n",
       "      <th>187</th>\n",
       "      <td>mitten_TDC19</td>\n",
       "      <td>naive.B.cells</td>\n",
       "      <td>627.00</td>\n",
       "      <td>1.0</td>\n",
       "      <td>9696393.0</td>\n",
       "      <td>3391553.0</td>\n",
       "      <td>1.0</td>\n",
       "      <td>0.67400</td>\n",
       "      <td>#EF553B</td>\n",
       "    </tr>\n",
       "    <tr>\n",
       "      <th>188</th>\n",
       "      <td>mitten_TDC19</td>\n",
       "      <td>naive.CD4.T.cells</td>\n",
       "      <td>441.00</td>\n",
       "      <td>1.0</td>\n",
       "      <td>9696393.0</td>\n",
       "      <td>3391553.0</td>\n",
       "      <td>1.0</td>\n",
       "      <td>0.29500</td>\n",
       "      <td>#EF553B</td>\n",
       "    </tr>\n",
       "    <tr>\n",
       "      <th>189</th>\n",
       "      <td>mitten_TDC19</td>\n",
       "      <td>naive.CD8.T.cells</td>\n",
       "      <td>1340.00</td>\n",
       "      <td>1.0</td>\n",
       "      <td>9696393.0</td>\n",
       "      <td>3391553.0</td>\n",
       "      <td>1.0</td>\n",
       "      <td>0.52550</td>\n",
       "      <td>#EF553B</td>\n",
       "    </tr>\n",
       "    <tr>\n",
       "      <th>190</th>\n",
       "      <td>mitten_TDC19</td>\n",
       "      <td>neutrophils</td>\n",
       "      <td>696.75</td>\n",
       "      <td>1.0</td>\n",
       "      <td>9696393.0</td>\n",
       "      <td>3391553.0</td>\n",
       "      <td>1.0</td>\n",
       "      <td>0.83175</td>\n",
       "      <td>#EF553B</td>\n",
       "    </tr>\n",
       "    <tr>\n",
       "      <th>191</th>\n",
       "      <td>mitten_TDC19</td>\n",
       "      <td>regulatory.T.cells</td>\n",
       "      <td>69.00</td>\n",
       "      <td>1.0</td>\n",
       "      <td>9696393.0</td>\n",
       "      <td>3391553.0</td>\n",
       "      <td>1.0</td>\n",
       "      <td>0.10700</td>\n",
       "      <td>#EF553B</td>\n",
       "    </tr>\n",
       "  </tbody>\n",
       "</table>\n",
       "<p>192 rows × 9 columns</p>\n",
       "</div>"
      ],
      "text/plain": [
       "        submitter            celltype   ROW_ID  ROW_VERSION   objectId  submitterId  is_latest  metric_value  mcolour\n",
       "0     Aboensis IV            NK.cells  1019.40          1.0  9696229.0    3390884.0        1.0       0.71700  #EF553B\n",
       "1     Aboensis IV         macrophages   356.00          1.0  9696229.0    3390884.0        1.0       0.13600  #EF553B\n",
       "2     Aboensis IV      memory.B.cells  1007.00          1.0  9696229.0    3390884.0        1.0       0.35750  #EF553B\n",
       "3     Aboensis IV  memory.CD4.T.cells  1441.00          1.0  9696229.0    3390884.0        1.0       0.89700  #EF553B\n",
       "4     Aboensis IV  memory.CD8.T.cells   340.50          1.0  9696229.0    3390884.0        1.0       0.30800  #EF553B\n",
       "..            ...                 ...      ...          ...        ...          ...        ...           ...      ...\n",
       "187  mitten_TDC19       naive.B.cells   627.00          1.0  9696393.0    3391553.0        1.0       0.67400  #EF553B\n",
       "188  mitten_TDC19   naive.CD4.T.cells   441.00          1.0  9696393.0    3391553.0        1.0       0.29500  #EF553B\n",
       "189  mitten_TDC19   naive.CD8.T.cells  1340.00          1.0  9696393.0    3391553.0        1.0       0.52550  #EF553B\n",
       "190  mitten_TDC19         neutrophils   696.75          1.0  9696393.0    3391553.0        1.0       0.83175  #EF553B\n",
       "191  mitten_TDC19  regulatory.T.cells    69.00          1.0  9696393.0    3391553.0        1.0       0.10700  #EF553B\n",
       "\n",
       "[192 rows x 9 columns]"
      ]
     },
     "execution_count": 5,
     "metadata": {},
     "output_type": "execute_result"
    }
   ],
   "source": [
    "df"
   ]
  }
 ],
 "metadata": {
  "colab": {
   "collapsed_sections": [],
   "name": "Yada.ipynb",
   "provenance": []
  },
  "kernelspec": {
   "display_name": "Python 3 (ipykernel)",
   "language": "python",
   "name": "python3"
  },
  "language_info": {
   "codemirror_mode": {
    "name": "ipython",
    "version": 3
   },
   "file_extension": ".py",
   "mimetype": "text/x-python",
   "name": "python",
   "nbconvert_exporter": "python",
   "pygments_lexer": "ipython3",
   "version": "3.12.1"
  }
 },
 "nbformat": 4,
 "nbformat_minor": 1
}
