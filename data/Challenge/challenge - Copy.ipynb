{
 "cells": [
  {
   "cell_type": "markdown",
   "metadata": {
    "id": "_Fh3BwMNdzYP"
   },
   "source": [
    "# Yada Deconvolution Result\n",
    "\n",
    "---\n",
    "\n",
    "- Run the following cells for deconvolution using Yada.\n",
    "\n",
    "## 1 - Import prerequisites"
   ]
  },
  {
   "cell_type": "code",
   "execution_count": 1,
   "metadata": {
    "colab": {
     "base_uri": "https://localhost:8080/"
    },
    "id": "GE9Tg1H1dzYS",
    "outputId": "4d5d91e3-29ef-4057-cb4a-5a8825589776"
   },
   "outputs": [],
   "source": [
    "from IPython.display import FileLink, FileLinks\n",
    "import pandas as pd\n",
    "\n",
    "pd.set_option('display.max_columns', 500)\n",
    "pd.set_option('display.width', 10000)"
   ]
  },
  {
   "cell_type": "code",
   "execution_count": null,
   "metadata": {
    "colab": {
     "base_uri": "https://localhost:8080/",
     "height": 424
    },
    "id": "4S_qa1O-lRPF",
    "outputId": "63dd055d-ac57-4062-d60a-a9ea77e12ace"
   },
   "outputs": [],
   "source": [
    "!pip install -U kaleido==0.1.0post1"
   ]
  },
  {
   "cell_type": "code",
   "execution_count": 3,
   "metadata": {
    "colab": {
     "base_uri": "https://localhost:8080/",
     "height": 542
    },
    "id": "UzGBtF2grSJG",
    "outputId": "34df950d-63fe-493b-c5a6-c026d0b68282"
   },
   "outputs": [
    {
     "data": {
      "application/vnd.plotly.v1+json": {
       "config": {
        "plotlyServerURL": "https://plot.ly"
       },
       "data": [
        {
         "alignmentgroup": "True",
         "boxpoints": "all",
         "hovertemplate": "<b>%{hovertext}</b><br><br>Test=r3fine<br>celltype=%{x}<br>metric_value=%{y}<extra></extra>",
         "hovertext": [
          "Aboensis IV",
          "Aboensis IV",
          "Aboensis IV",
          "Aboensis IV",
          "Aboensis IV",
          "Aboensis IV",
          "Aboensis IV",
          "Aboensis IV",
          "Aboensis IV",
          "Aboensis IV",
          "Aboensis IV",
          "Aboensis IV",
          "Aginome-XMU",
          "Aginome-XMU",
          "Aginome-XMU",
          "Aginome-XMU",
          "Aginome-XMU",
          "Aginome-XMU",
          "Aginome-XMU",
          "Aginome-XMU",
          "Aginome-XMU",
          "Aginome-XMU",
          "Aginome-XMU",
          "Aginome-XMU",
          "CCB",
          "CCB",
          "CCB",
          "CCB",
          "CCB",
          "CCB",
          "CCB",
          "CCB",
          "CCB",
          "CCB",
          "CCB",
          "CCB",
          "Cancer_Decon",
          "Cancer_Decon",
          "Cancer_Decon",
          "Cancer_Decon",
          "Cancer_Decon",
          "Cancer_Decon",
          "Cancer_Decon",
          "Cancer_Decon",
          "Cancer_Decon",
          "Cancer_Decon",
          "Cancer_Decon",
          "Cancer_Decon",
          "D3Team",
          "D3Team",
          "D3Team",
          "D3Team",
          "D3Team",
          "D3Team",
          "D3Team",
          "D3Team",
          "D3Team",
          "D3Team",
          "D3Team",
          "D3Team",
          "DA_505",
          "DA_505",
          "DA_505",
          "DA_505",
          "DA_505",
          "DA_505",
          "DA_505",
          "DA_505",
          "DA_505",
          "DA_505",
          "DA_505",
          "DA_505",
          "ICTD",
          "ICTD",
          "ICTD",
          "ICTD",
          "ICTD",
          "ICTD",
          "ICTD",
          "ICTD",
          "ICTD",
          "ICTD",
          "ICTD",
          "ICTD",
          "IZI",
          "IZI",
          "IZI",
          "IZI",
          "IZI",
          "IZI",
          "IZI",
          "IZI",
          "IZI",
          "IZI",
          "IZI",
          "IZI",
          "LeiliLab",
          "LeiliLab",
          "LeiliLab",
          "LeiliLab",
          "LeiliLab",
          "LeiliLab",
          "LeiliLab",
          "LeiliLab",
          "LeiliLab",
          "LeiliLab",
          "LeiliLab",
          "LeiliLab",
          "Northwestern Polytechnical University",
          "Northwestern Polytechnical University",
          "Northwestern Polytechnical University",
          "Northwestern Polytechnical University",
          "Northwestern Polytechnical University",
          "Northwestern Polytechnical University",
          "Northwestern Polytechnical University",
          "Northwestern Polytechnical University",
          "Northwestern Polytechnical University",
          "Northwestern Polytechnical University",
          "Northwestern Polytechnical University",
          "Northwestern Polytechnical University",
          "REGGEN_LAB",
          "REGGEN_LAB",
          "REGGEN_LAB",
          "REGGEN_LAB",
          "REGGEN_LAB",
          "REGGEN_LAB",
          "REGGEN_LAB",
          "REGGEN_LAB",
          "REGGEN_LAB",
          "REGGEN_LAB",
          "REGGEN_LAB",
          "REGGEN_LAB",
          "Rubbernecks",
          "Rubbernecks",
          "Rubbernecks",
          "Rubbernecks",
          "Rubbernecks",
          "Rubbernecks",
          "Rubbernecks",
          "Rubbernecks",
          "Rubbernecks",
          "Rubbernecks",
          "Rubbernecks",
          "Rubbernecks",
          "Tonys Boys",
          "Tonys Boys",
          "Tonys Boys",
          "Tonys Boys",
          "Tonys Boys",
          "Tonys Boys",
          "Tonys Boys",
          "Tonys Boys",
          "Tonys Boys",
          "Tonys Boys",
          "Tonys Boys",
          "Tonys Boys",
          "VUmc_TGAC",
          "VUmc_TGAC",
          "VUmc_TGAC",
          "VUmc_TGAC",
          "VUmc_TGAC",
          "VUmc_TGAC",
          "VUmc_TGAC",
          "VUmc_TGAC",
          "VUmc_TGAC",
          "VUmc_TGAC",
          "VUmc_TGAC",
          "VUmc_TGAC",
          "andrewelamb",
          "andrewelamb",
          "andrewelamb",
          "andrewelamb",
          "andrewelamb",
          "andrewelamb",
          "andrewelamb",
          "andrewelamb",
          "andrewelamb",
          "andrewelamb",
          "andrewelamb",
          "andrewelamb",
          "mitten_TDC19",
          "mitten_TDC19",
          "mitten_TDC19",
          "mitten_TDC19",
          "mitten_TDC19",
          "mitten_TDC19",
          "mitten_TDC19",
          "mitten_TDC19",
          "mitten_TDC19",
          "mitten_TDC19",
          "mitten_TDC19",
          "mitten_TDC19"
         ],
         "legendgroup": "r3fine",
         "marker": {
          "color": "#636efa"
         },
         "name": "r3fine",
         "notched": false,
         "offsetgroup": "r3fine",
         "orientation": "v",
         "showlegend": true,
         "type": "box",
         "x": [
          "NK.cells",
          "macrophages",
          "memory.B.cells",
          "memory.CD4.T.cells",
          "memory.CD8.T.cells",
          "monocytes",
          "myeloid.dendritic.cells",
          "naive.B.cells",
          "naive.CD4.T.cells",
          "naive.CD8.T.cells",
          "neutrophils",
          "regulatory.T.cells",
          "NK.cells",
          "macrophages",
          "memory.B.cells",
          "memory.CD4.T.cells",
          "memory.CD8.T.cells",
          "monocytes",
          "myeloid.dendritic.cells",
          "naive.B.cells",
          "naive.CD4.T.cells",
          "naive.CD8.T.cells",
          "neutrophils",
          "regulatory.T.cells",
          "NK.cells",
          "macrophages",
          "memory.B.cells",
          "memory.CD4.T.cells",
          "memory.CD8.T.cells",
          "monocytes",
          "myeloid.dendritic.cells",
          "naive.B.cells",
          "naive.CD4.T.cells",
          "naive.CD8.T.cells",
          "neutrophils",
          "regulatory.T.cells",
          "NK.cells",
          "macrophages",
          "memory.B.cells",
          "memory.CD4.T.cells",
          "memory.CD8.T.cells",
          "monocytes",
          "myeloid.dendritic.cells",
          "naive.B.cells",
          "naive.CD4.T.cells",
          "naive.CD8.T.cells",
          "neutrophils",
          "regulatory.T.cells",
          "NK.cells",
          "macrophages",
          "memory.B.cells",
          "memory.CD4.T.cells",
          "memory.CD8.T.cells",
          "monocytes",
          "myeloid.dendritic.cells",
          "naive.B.cells",
          "naive.CD4.T.cells",
          "naive.CD8.T.cells",
          "neutrophils",
          "regulatory.T.cells",
          "NK.cells",
          "macrophages",
          "memory.B.cells",
          "memory.CD4.T.cells",
          "memory.CD8.T.cells",
          "monocytes",
          "myeloid.dendritic.cells",
          "naive.B.cells",
          "naive.CD4.T.cells",
          "naive.CD8.T.cells",
          "neutrophils",
          "regulatory.T.cells",
          "NK.cells",
          "macrophages",
          "memory.B.cells",
          "memory.CD4.T.cells",
          "memory.CD8.T.cells",
          "monocytes",
          "myeloid.dendritic.cells",
          "naive.B.cells",
          "naive.CD4.T.cells",
          "naive.CD8.T.cells",
          "neutrophils",
          "regulatory.T.cells",
          "NK.cells",
          "macrophages",
          "memory.B.cells",
          "memory.CD4.T.cells",
          "memory.CD8.T.cells",
          "monocytes",
          "myeloid.dendritic.cells",
          "naive.B.cells",
          "naive.CD4.T.cells",
          "naive.CD8.T.cells",
          "neutrophils",
          "regulatory.T.cells",
          "NK.cells",
          "macrophages",
          "memory.B.cells",
          "memory.CD4.T.cells",
          "memory.CD8.T.cells",
          "monocytes",
          "myeloid.dendritic.cells",
          "naive.B.cells",
          "naive.CD4.T.cells",
          "naive.CD8.T.cells",
          "neutrophils",
          "regulatory.T.cells",
          "NK.cells",
          "macrophages",
          "memory.B.cells",
          "memory.CD4.T.cells",
          "memory.CD8.T.cells",
          "monocytes",
          "myeloid.dendritic.cells",
          "naive.B.cells",
          "naive.CD4.T.cells",
          "naive.CD8.T.cells",
          "neutrophils",
          "regulatory.T.cells",
          "NK.cells",
          "macrophages",
          "memory.B.cells",
          "memory.CD4.T.cells",
          "memory.CD8.T.cells",
          "monocytes",
          "myeloid.dendritic.cells",
          "naive.B.cells",
          "naive.CD4.T.cells",
          "naive.CD8.T.cells",
          "neutrophils",
          "regulatory.T.cells",
          "NK.cells",
          "macrophages",
          "memory.B.cells",
          "memory.CD4.T.cells",
          "memory.CD8.T.cells",
          "monocytes",
          "myeloid.dendritic.cells",
          "naive.B.cells",
          "naive.CD4.T.cells",
          "naive.CD8.T.cells",
          "neutrophils",
          "regulatory.T.cells",
          "NK.cells",
          "macrophages",
          "memory.B.cells",
          "memory.CD4.T.cells",
          "memory.CD8.T.cells",
          "monocytes",
          "myeloid.dendritic.cells",
          "naive.B.cells",
          "naive.CD4.T.cells",
          "naive.CD8.T.cells",
          "neutrophils",
          "regulatory.T.cells",
          "NK.cells",
          "macrophages",
          "memory.B.cells",
          "memory.CD4.T.cells",
          "memory.CD8.T.cells",
          "monocytes",
          "myeloid.dendritic.cells",
          "naive.B.cells",
          "naive.CD4.T.cells",
          "naive.CD8.T.cells",
          "neutrophils",
          "regulatory.T.cells",
          "NK.cells",
          "macrophages",
          "memory.B.cells",
          "memory.CD4.T.cells",
          "memory.CD8.T.cells",
          "monocytes",
          "myeloid.dendritic.cells",
          "naive.B.cells",
          "naive.CD4.T.cells",
          "naive.CD8.T.cells",
          "neutrophils",
          "regulatory.T.cells",
          "NK.cells",
          "macrophages",
          "memory.B.cells",
          "memory.CD4.T.cells",
          "memory.CD8.T.cells",
          "monocytes",
          "myeloid.dendritic.cells",
          "naive.B.cells",
          "naive.CD4.T.cells",
          "naive.CD8.T.cells",
          "neutrophils",
          "regulatory.T.cells"
         ],
         "x0": " ",
         "xaxis": "x",
         "y": [
          0.717,
          0.136,
          0.3575,
          0.897,
          0.308,
          0.54025,
          0.544,
          0.942,
          0.495,
          0.7685,
          0.60075,
          0.345,
          0.8562,
          0.605,
          0.55,
          0.663,
          0.51,
          0.8664999999999999,
          0.92275,
          0.9855,
          0.59,
          0.714,
          0.66025,
          0.8,
          0.6524,
          0.847,
          0.722,
          0.81,
          0.735,
          0.85525,
          0.57475,
          0.927,
          0.388,
          0.314,
          0.73425,
          0.978,
          0.6756,
          0.713,
          0.537,
          0.858,
          0.2495,
          0.8007500000000001,
          0.76725,
          0.8975,
          0.289,
          0.1915,
          0.4325,
          0.992,
          0.7762,
          0.75,
          0.23600000000000002,
          0.678,
          0.8275,
          0.85775,
          0.85875,
          0.956,
          0.424,
          0.558,
          0.64575,
          0.984,
          0.8202,
          0.789,
          0.66,
          0.948,
          0.7725,
          0.9175,
          0.7789999999999999,
          0.9724999999999999,
          0.814,
          0.5765,
          0.75425,
          0.859,
          0.6756,
          0.713,
          0.537,
          0.858,
          0.2495,
          0.8007500000000001,
          0.76725,
          0.8975,
          0.289,
          0.1915,
          0.4325,
          0.992,
          0.0948,
          0.773,
          0.491,
          0.41,
          0.3335,
          0.55875,
          0.7965,
          0.497,
          0.177,
          -0.0505,
          0.7975,
          0.571,
          0.6288,
          0.604,
          0.0615,
          0.645,
          0.315,
          0.675,
          0.78075,
          0,
          0.28,
          0.8334999999999999,
          0.682,
          0.876,
          -0.04979999999999999,
          0.297,
          0,
          0,
          0.5945,
          0.32225000000000004,
          0.319,
          0.223,
          0,
          0.257,
          0.2875,
          0.049,
          0.47640000000000005,
          0.485,
          0.14100000000000001,
          -0.035,
          0.18000000000000002,
          0.5017499999999999,
          -0.023249999999999993,
          0.6890000000000001,
          -0.301,
          0.21649999999999997,
          0.4065,
          0.407,
          0.7028,
          0.844,
          0.36950000000000005,
          0.87,
          0.6805,
          0.67575,
          0.7565000000000001,
          0.0705,
          0.312,
          0.2345,
          0.5529999999999999,
          0.365,
          0.7342000000000001,
          0.652,
          0.7065,
          -0.136,
          0.8069999999999999,
          0.434,
          0.647,
          0.982,
          0.317,
          0.8400000000000001,
          0,
          0.98,
          0.44000000000000006,
          0.409,
          0.46249999999999997,
          0.903,
          0.2935,
          0.38425,
          0.26675,
          0.392,
          0.111,
          0.12100000000000001,
          0.264,
          0.288,
          0.7904,
          0.759,
          0.9405,
          0.93,
          0.4165,
          0.8999999999999999,
          0.65675,
          0.9864999999999999,
          0.647,
          0.07600000000000001,
          0.72725,
          0.805,
          0.7604,
          0.581,
          0.3845,
          -0.002,
          0.6659999999999999,
          0.8707499999999999,
          0.584,
          0.6739999999999999,
          0.295,
          0.5255,
          0.83175,
          0.107
         ],
         "y0": " ",
         "yaxis": "y"
        },
        {
         "alignmentgroup": "True",
         "boxpoints": "all",
         "hovertemplate": "<b>%{hovertext}</b><br><br>Test=r4fine<br>celltype=%{x}<br>metric_value=%{y}<extra></extra>",
         "hovertext": [
          "Aboensis IV",
          "Aboensis IV",
          "Aboensis IV",
          "Aboensis IV",
          "Aboensis IV",
          "Aboensis IV",
          "Aboensis IV",
          "Aboensis IV",
          "Aboensis IV",
          "Aboensis IV",
          "Aboensis IV",
          "Aboensis IV",
          "Aboensis IV",
          "Aboensis IV",
          "Aginome-XMU",
          "Aginome-XMU",
          "Aginome-XMU",
          "Aginome-XMU",
          "Aginome-XMU",
          "Aginome-XMU",
          "Aginome-XMU",
          "Aginome-XMU",
          "Aginome-XMU",
          "Aginome-XMU",
          "Aginome-XMU",
          "Aginome-XMU",
          "Aginome-XMU",
          "Aginome-XMU",
          "Biogem",
          "Biogem",
          "Biogem",
          "Biogem",
          "Biogem",
          "Biogem",
          "Biogem",
          "Biogem",
          "Biogem",
          "Biogem",
          "Biogem",
          "Biogem",
          "Biogem",
          "Biogem",
          "CCB",
          "CCB",
          "CCB",
          "CCB",
          "CCB",
          "CCB",
          "CCB",
          "CCB",
          "CCB",
          "CCB",
          "CCB",
          "CCB",
          "CCB",
          "CCB",
          "Cancer_Decon",
          "Cancer_Decon",
          "Cancer_Decon",
          "Cancer_Decon",
          "Cancer_Decon",
          "Cancer_Decon",
          "Cancer_Decon",
          "Cancer_Decon",
          "Cancer_Decon",
          "Cancer_Decon",
          "Cancer_Decon",
          "Cancer_Decon",
          "Cancer_Decon",
          "Cancer_Decon",
          "D3Team",
          "D3Team",
          "D3Team",
          "D3Team",
          "D3Team",
          "D3Team",
          "D3Team",
          "D3Team",
          "D3Team",
          "D3Team",
          "D3Team",
          "D3Team",
          "D3Team",
          "D3Team",
          "DA_505",
          "DA_505",
          "DA_505",
          "DA_505",
          "DA_505",
          "DA_505",
          "DA_505",
          "DA_505",
          "DA_505",
          "DA_505",
          "DA_505",
          "DA_505",
          "DA_505",
          "DA_505",
          "ICTD",
          "ICTD",
          "ICTD",
          "ICTD",
          "ICTD",
          "ICTD",
          "ICTD",
          "ICTD",
          "ICTD",
          "ICTD",
          "ICTD",
          "ICTD",
          "ICTD",
          "ICTD",
          "IZI",
          "IZI",
          "IZI",
          "IZI",
          "IZI",
          "IZI",
          "IZI",
          "IZI",
          "IZI",
          "IZI",
          "IZI",
          "IZI",
          "IZI",
          "IZI",
          "LeiliLab",
          "LeiliLab",
          "LeiliLab",
          "LeiliLab",
          "LeiliLab",
          "LeiliLab",
          "LeiliLab",
          "LeiliLab",
          "LeiliLab",
          "LeiliLab",
          "LeiliLab",
          "LeiliLab",
          "LeiliLab",
          "LeiliLab",
          "Northwestern Polytechnical University",
          "Northwestern Polytechnical University",
          "Northwestern Polytechnical University",
          "Northwestern Polytechnical University",
          "Northwestern Polytechnical University",
          "Northwestern Polytechnical University",
          "Northwestern Polytechnical University",
          "Northwestern Polytechnical University",
          "Northwestern Polytechnical University",
          "Northwestern Polytechnical University",
          "Northwestern Polytechnical University",
          "Northwestern Polytechnical University",
          "Northwestern Polytechnical University",
          "Northwestern Polytechnical University",
          "Patrick",
          "Patrick",
          "Patrick",
          "Patrick",
          "Patrick",
          "Patrick",
          "Patrick",
          "Patrick",
          "Patrick",
          "Patrick",
          "Patrick",
          "Patrick",
          "Patrick",
          "Patrick",
          "REGGEN_LAB",
          "REGGEN_LAB",
          "REGGEN_LAB",
          "REGGEN_LAB",
          "REGGEN_LAB",
          "REGGEN_LAB",
          "REGGEN_LAB",
          "REGGEN_LAB",
          "REGGEN_LAB",
          "REGGEN_LAB",
          "REGGEN_LAB",
          "REGGEN_LAB",
          "REGGEN_LAB",
          "REGGEN_LAB",
          "Rubbernecks",
          "Rubbernecks",
          "Rubbernecks",
          "Rubbernecks",
          "Rubbernecks",
          "Rubbernecks",
          "Rubbernecks",
          "Rubbernecks",
          "Rubbernecks",
          "Rubbernecks",
          "Rubbernecks",
          "Rubbernecks",
          "Rubbernecks",
          "Rubbernecks",
          "Tonys Boys",
          "Tonys Boys",
          "Tonys Boys",
          "Tonys Boys",
          "Tonys Boys",
          "Tonys Boys",
          "Tonys Boys",
          "Tonys Boys",
          "Tonys Boys",
          "Tonys Boys",
          "Tonys Boys",
          "Tonys Boys",
          "Tonys Boys",
          "Tonys Boys",
          "andrewelamb",
          "andrewelamb",
          "andrewelamb",
          "andrewelamb",
          "andrewelamb",
          "andrewelamb",
          "andrewelamb",
          "andrewelamb",
          "andrewelamb",
          "andrewelamb",
          "andrewelamb",
          "andrewelamb",
          "andrewelamb",
          "andrewelamb",
          "mitten_TDC19",
          "mitten_TDC19",
          "mitten_TDC19",
          "mitten_TDC19",
          "mitten_TDC19",
          "mitten_TDC19",
          "mitten_TDC19",
          "mitten_TDC19",
          "mitten_TDC19",
          "mitten_TDC19",
          "mitten_TDC19",
          "mitten_TDC19",
          "mitten_TDC19",
          "mitten_TDC19"
         ],
         "legendgroup": "r4fine",
         "marker": {
          "color": "#EF553B"
         },
         "name": "r4fine",
         "notched": false,
         "offsetgroup": "r4fine",
         "orientation": "v",
         "showlegend": true,
         "type": "box",
         "x": [
          "Grand mean",
          "NK.cells",
          "endothelial.cells",
          "fibroblasts",
          "macrophages",
          "memory.CD4.T.cells",
          "memory.CD8.T.cells",
          "monocytes",
          "myeloid.dendritic.cells",
          "naive.B.cells",
          "naive.CD4.T.cells",
          "naive.CD8.T.cells",
          "neutrophils",
          "regulatory.T.cells",
          "Grand mean",
          "NK.cells",
          "endothelial.cells",
          "fibroblasts",
          "macrophages",
          "memory.CD4.T.cells",
          "memory.CD8.T.cells",
          "monocytes",
          "myeloid.dendritic.cells",
          "naive.B.cells",
          "naive.CD4.T.cells",
          "naive.CD8.T.cells",
          "neutrophils",
          "regulatory.T.cells",
          "Grand mean",
          "NK.cells",
          "endothelial.cells",
          "fibroblasts",
          "macrophages",
          "memory.CD4.T.cells",
          "memory.CD8.T.cells",
          "monocytes",
          "myeloid.dendritic.cells",
          "naive.B.cells",
          "naive.CD4.T.cells",
          "naive.CD8.T.cells",
          "neutrophils",
          "regulatory.T.cells",
          "Grand mean",
          "NK.cells",
          "endothelial.cells",
          "fibroblasts",
          "macrophages",
          "memory.CD4.T.cells",
          "memory.CD8.T.cells",
          "monocytes",
          "myeloid.dendritic.cells",
          "naive.B.cells",
          "naive.CD4.T.cells",
          "naive.CD8.T.cells",
          "neutrophils",
          "regulatory.T.cells",
          "Grand mean",
          "NK.cells",
          "endothelial.cells",
          "fibroblasts",
          "macrophages",
          "memory.CD4.T.cells",
          "memory.CD8.T.cells",
          "monocytes",
          "myeloid.dendritic.cells",
          "naive.B.cells",
          "naive.CD4.T.cells",
          "naive.CD8.T.cells",
          "neutrophils",
          "regulatory.T.cells",
          "Grand mean",
          "NK.cells",
          "endothelial.cells",
          "fibroblasts",
          "macrophages",
          "memory.CD4.T.cells",
          "memory.CD8.T.cells",
          "monocytes",
          "myeloid.dendritic.cells",
          "naive.B.cells",
          "naive.CD4.T.cells",
          "naive.CD8.T.cells",
          "neutrophils",
          "regulatory.T.cells",
          "Grand mean",
          "NK.cells",
          "endothelial.cells",
          "fibroblasts",
          "macrophages",
          "memory.CD4.T.cells",
          "memory.CD8.T.cells",
          "monocytes",
          "myeloid.dendritic.cells",
          "naive.B.cells",
          "naive.CD4.T.cells",
          "naive.CD8.T.cells",
          "neutrophils",
          "regulatory.T.cells",
          "Grand mean",
          "NK.cells",
          "endothelial.cells",
          "fibroblasts",
          "macrophages",
          "memory.CD4.T.cells",
          "memory.CD8.T.cells",
          "monocytes",
          "myeloid.dendritic.cells",
          "naive.B.cells",
          "naive.CD4.T.cells",
          "naive.CD8.T.cells",
          "neutrophils",
          "regulatory.T.cells",
          "Grand mean",
          "NK.cells",
          "endothelial.cells",
          "fibroblasts",
          "macrophages",
          "memory.CD4.T.cells",
          "memory.CD8.T.cells",
          "monocytes",
          "myeloid.dendritic.cells",
          "naive.B.cells",
          "naive.CD4.T.cells",
          "naive.CD8.T.cells",
          "neutrophils",
          "regulatory.T.cells",
          "Grand mean",
          "NK.cells",
          "endothelial.cells",
          "fibroblasts",
          "macrophages",
          "memory.CD4.T.cells",
          "memory.CD8.T.cells",
          "monocytes",
          "myeloid.dendritic.cells",
          "naive.B.cells",
          "naive.CD4.T.cells",
          "naive.CD8.T.cells",
          "neutrophils",
          "regulatory.T.cells",
          "Grand mean",
          "NK.cells",
          "endothelial.cells",
          "fibroblasts",
          "macrophages",
          "memory.CD4.T.cells",
          "memory.CD8.T.cells",
          "monocytes",
          "myeloid.dendritic.cells",
          "naive.B.cells",
          "naive.CD4.T.cells",
          "naive.CD8.T.cells",
          "neutrophils",
          "regulatory.T.cells",
          "Grand mean",
          "NK.cells",
          "endothelial.cells",
          "fibroblasts",
          "macrophages",
          "memory.CD4.T.cells",
          "memory.CD8.T.cells",
          "monocytes",
          "myeloid.dendritic.cells",
          "naive.B.cells",
          "naive.CD4.T.cells",
          "naive.CD8.T.cells",
          "neutrophils",
          "regulatory.T.cells",
          "Grand mean",
          "NK.cells",
          "endothelial.cells",
          "fibroblasts",
          "macrophages",
          "memory.CD4.T.cells",
          "memory.CD8.T.cells",
          "monocytes",
          "myeloid.dendritic.cells",
          "naive.B.cells",
          "naive.CD4.T.cells",
          "naive.CD8.T.cells",
          "neutrophils",
          "regulatory.T.cells",
          "Grand mean",
          "NK.cells",
          "endothelial.cells",
          "fibroblasts",
          "macrophages",
          "memory.CD4.T.cells",
          "memory.CD8.T.cells",
          "monocytes",
          "myeloid.dendritic.cells",
          "naive.B.cells",
          "naive.CD4.T.cells",
          "naive.CD8.T.cells",
          "neutrophils",
          "regulatory.T.cells",
          "Grand mean",
          "NK.cells",
          "endothelial.cells",
          "fibroblasts",
          "macrophages",
          "memory.CD4.T.cells",
          "memory.CD8.T.cells",
          "monocytes",
          "myeloid.dendritic.cells",
          "naive.B.cells",
          "naive.CD4.T.cells",
          "naive.CD8.T.cells",
          "neutrophils",
          "regulatory.T.cells",
          "Grand mean",
          "NK.cells",
          "endothelial.cells",
          "fibroblasts",
          "macrophages",
          "memory.CD4.T.cells",
          "memory.CD8.T.cells",
          "monocytes",
          "myeloid.dendritic.cells",
          "naive.B.cells",
          "naive.CD4.T.cells",
          "naive.CD8.T.cells",
          "neutrophils",
          "regulatory.T.cells",
          "Grand mean",
          "NK.cells",
          "endothelial.cells",
          "fibroblasts",
          "macrophages",
          "memory.CD4.T.cells",
          "memory.CD8.T.cells",
          "monocytes",
          "myeloid.dendritic.cells",
          "naive.B.cells",
          "naive.CD4.T.cells",
          "naive.CD8.T.cells",
          "neutrophils",
          "regulatory.T.cells"
         ],
         "x0": " ",
         "xaxis": "x",
         "y": [
          0.644,
          0.6055555555555556,
          0.9845555555555556,
          0.9463333333333332,
          0.4197777777777778,
          0.07944444444444446,
          0.12811111111111112,
          0.5153333333333333,
          0.5476666666666667,
          0.942888888888889,
          0.5795555555555556,
          0.9268000000000001,
          0.9776,
          0.7148888888888889,
          0.786,
          0.9102222222222223,
          0.979111111111111,
          0.9805555555555555,
          0.6723333333333333,
          0.5224444444444445,
          0.5726666666666667,
          0.7325555555555555,
          0.4683333333333333,
          0.9387777777777777,
          0.7712222222222223,
          0.868,
          0.9984,
          0.8003333333333333,
          0.713,
          0.7693333333333334,
          0.9735555555555556,
          0.8972222222222221,
          0.414,
          0.4698888888888889,
          0.44055555555555553,
          0.6643333333333333,
          0.23088888888888892,
          0.9750000000000001,
          0.7438888888888889,
          0.891,
          0.9932000000000001,
          0.8127777777777777,
          0.64,
          0.8961111111111111,
          0.9042222222222223,
          0.9812222222222222,
          0.2831111111111111,
          0.4404444444444444,
          0.6811111111111111,
          0.6303333333333333,
          0.03833333333333334,
          0.9403333333333332,
          0.5678888888888889,
          0.2468,
          0.9138,
          0.8011111111111111,
          0.616,
          0.6606666666666666,
          0.9306666666666666,
          0.8991111111111112,
          0.4318888888888889,
          0.1938888888888889,
          0.1618888888888889,
          0.596,
          0.6377777777777778,
          0.935,
          0.47500000000000003,
          0.4128,
          0.9064,
          0.7714444444444444,
          0.682,
          0.8833333333333333,
          0.718,
          0.8251111111111111,
          0.46233333333333326,
          0.2644444444444444,
          0.2788888888888889,
          0.7328888888888889,
          0.4568888888888889,
          0.9518888888888889,
          0.7005555555555555,
          0.8458,
          0.9812,
          0.7691111111111111,
          0.754,
          0.8182222222222222,
          0.9762222222222222,
          0.9088888888888889,
          0.5356666666666666,
          0.6812222222222223,
          0.5701111111111111,
          0.8647777777777778,
          -0.004777777777777788,
          0.8001111111111111,
          0.9142222222222222,
          0.9280000000000002,
          0.938,
          0.8758888888888889,
          0.617,
          0.6606666666666666,
          0.9306666666666666,
          0.8991111111111112,
          0.4318888888888889,
          0.1938888888888889,
          0.1618888888888889,
          0.596,
          0.643,
          0.9380000000000001,
          0.47500000000000003,
          0.4128,
          0.9064,
          0.7714444444444444,
          0.667,
          0.9015555555555557,
          0.9299999999999999,
          0.864,
          0.4142222222222222,
          0.32999999999999996,
          0.5225555555555556,
          0.6991111111111111,
          0.49233333333333335,
          0.9153333333333333,
          0.44377777777777777,
          0.6734,
          0.909,
          0.5782222222222222,
          0.193,
          0.3318888888888889,
          -0.07911111111111112,
          0.21766666666666667,
          0.055,
          -0.011333333333333332,
          0.18844444444444444,
          0.07400000000000001,
          0.222,
          0,
          0.12388888888888888,
          0.3074,
          0.6990000000000001,
          0.3867777777777778,
          0.25,
          0.06811111111111111,
          0.5795555555555556,
          0.3877777777777778,
          0.19822222222222222,
          0.026444444444444448,
          0.23877777777777778,
          0.10222222222222221,
          0.38033333333333336,
          -0.03666666666666667,
          0.00888888888888889,
          0.5234,
          0.8656,
          -0.09688888888888889,
          0.619,
          0.6910000000000001,
          0.7768888888888889,
          0.9225555555555555,
          0.3932222222222222,
          0.43377777777777776,
          0.5211111111111112,
          0.5903333333333333,
          0.12000000000000001,
          0.8246666666666667,
          0.5589999999999999,
          0.7748,
          0.9827999999999999,
          0.4538888888888889,
          0.54,
          0.8986666666666666,
          0.7212222222222222,
          0.7906666666666666,
          0.4748888888888889,
          0.38833333333333336,
          0.628,
          0.5676666666666667,
          0.13477777777777777,
          0.42877777777777776,
          0.5651111111111111,
          0.612,
          0.3134,
          0.492,
          0.453,
          0.6666666666666666,
          0.29066666666666663,
          0.4397777777777778,
          0.19122222222222224,
          0.26255555555555554,
          0.5786666666666667,
          0.4794444444444444,
          0.6654444444444444,
          0.06422222222222222,
          0.4388888888888889,
          0.766,
          0.7786000000000001,
          0.26844444444444443,
          0.344,
          0.8218888888888889,
          0.7585555555555555,
          0.8882222222222222,
          0.1708888888888889,
          0.038000000000000006,
          0.0911111111111111,
          0.33222222222222225,
          0.025333333333333333,
          0.328,
          0.13522222222222224,
          0.22480000000000003,
          0.46980000000000005,
          0.18133333333333335,
          null,
          0.8238888888888889,
          null,
          null,
          0.40611111111111114,
          0.5275555555555556,
          null,
          0.6495555555555556,
          0.545,
          0.8956666666666666,
          0.6912222222222222,
          null,
          0.9161999999999999,
          0.422,
          0.75,
          0.8563333333333333,
          0.8995555555555556,
          0.9133333333333334,
          0.6341111111111111,
          0.3523333333333334,
          0.8427777777777777,
          0.7281111111111112,
          0.27744444444444444,
          0.9186666666666667,
          0.6262222222222222,
          0.9098,
          0.9928000000000001,
          0.8038888888888889
         ],
         "y0": " ",
         "yaxis": "y"
        }
       ],
       "layout": {
        "boxmode": "group",
        "font": {
         "size": 24
        },
        "height": 1000,
        "legend": {
         "title": {
          "text": "Test"
         },
         "tracegroupgap": 0
        },
        "margin": {
         "t": 60
        },
        "template": {
         "data": {
          "bar": [
           {
            "error_x": {
             "color": "#2a3f5f"
            },
            "error_y": {
             "color": "#2a3f5f"
            },
            "marker": {
             "line": {
              "color": "#E5ECF6",
              "width": 0.5
             },
             "pattern": {
              "fillmode": "overlay",
              "size": 10,
              "solidity": 0.2
             }
            },
            "type": "bar"
           }
          ],
          "barpolar": [
           {
            "marker": {
             "line": {
              "color": "#E5ECF6",
              "width": 0.5
             },
             "pattern": {
              "fillmode": "overlay",
              "size": 10,
              "solidity": 0.2
             }
            },
            "type": "barpolar"
           }
          ],
          "carpet": [
           {
            "aaxis": {
             "endlinecolor": "#2a3f5f",
             "gridcolor": "white",
             "linecolor": "white",
             "minorgridcolor": "white",
             "startlinecolor": "#2a3f5f"
            },
            "baxis": {
             "endlinecolor": "#2a3f5f",
             "gridcolor": "white",
             "linecolor": "white",
             "minorgridcolor": "white",
             "startlinecolor": "#2a3f5f"
            },
            "type": "carpet"
           }
          ],
          "choropleth": [
           {
            "colorbar": {
             "outlinewidth": 0,
             "ticks": ""
            },
            "type": "choropleth"
           }
          ],
          "contour": [
           {
            "colorbar": {
             "outlinewidth": 0,
             "ticks": ""
            },
            "colorscale": [
             [
              0,
              "#0d0887"
             ],
             [
              0.1111111111111111,
              "#46039f"
             ],
             [
              0.2222222222222222,
              "#7201a8"
             ],
             [
              0.3333333333333333,
              "#9c179e"
             ],
             [
              0.4444444444444444,
              "#bd3786"
             ],
             [
              0.5555555555555556,
              "#d8576b"
             ],
             [
              0.6666666666666666,
              "#ed7953"
             ],
             [
              0.7777777777777778,
              "#fb9f3a"
             ],
             [
              0.8888888888888888,
              "#fdca26"
             ],
             [
              1,
              "#f0f921"
             ]
            ],
            "type": "contour"
           }
          ],
          "contourcarpet": [
           {
            "colorbar": {
             "outlinewidth": 0,
             "ticks": ""
            },
            "type": "contourcarpet"
           }
          ],
          "heatmap": [
           {
            "colorbar": {
             "outlinewidth": 0,
             "ticks": ""
            },
            "colorscale": [
             [
              0,
              "#0d0887"
             ],
             [
              0.1111111111111111,
              "#46039f"
             ],
             [
              0.2222222222222222,
              "#7201a8"
             ],
             [
              0.3333333333333333,
              "#9c179e"
             ],
             [
              0.4444444444444444,
              "#bd3786"
             ],
             [
              0.5555555555555556,
              "#d8576b"
             ],
             [
              0.6666666666666666,
              "#ed7953"
             ],
             [
              0.7777777777777778,
              "#fb9f3a"
             ],
             [
              0.8888888888888888,
              "#fdca26"
             ],
             [
              1,
              "#f0f921"
             ]
            ],
            "type": "heatmap"
           }
          ],
          "heatmapgl": [
           {
            "colorbar": {
             "outlinewidth": 0,
             "ticks": ""
            },
            "colorscale": [
             [
              0,
              "#0d0887"
             ],
             [
              0.1111111111111111,
              "#46039f"
             ],
             [
              0.2222222222222222,
              "#7201a8"
             ],
             [
              0.3333333333333333,
              "#9c179e"
             ],
             [
              0.4444444444444444,
              "#bd3786"
             ],
             [
              0.5555555555555556,
              "#d8576b"
             ],
             [
              0.6666666666666666,
              "#ed7953"
             ],
             [
              0.7777777777777778,
              "#fb9f3a"
             ],
             [
              0.8888888888888888,
              "#fdca26"
             ],
             [
              1,
              "#f0f921"
             ]
            ],
            "type": "heatmapgl"
           }
          ],
          "histogram": [
           {
            "marker": {
             "pattern": {
              "fillmode": "overlay",
              "size": 10,
              "solidity": 0.2
             }
            },
            "type": "histogram"
           }
          ],
          "histogram2d": [
           {
            "colorbar": {
             "outlinewidth": 0,
             "ticks": ""
            },
            "colorscale": [
             [
              0,
              "#0d0887"
             ],
             [
              0.1111111111111111,
              "#46039f"
             ],
             [
              0.2222222222222222,
              "#7201a8"
             ],
             [
              0.3333333333333333,
              "#9c179e"
             ],
             [
              0.4444444444444444,
              "#bd3786"
             ],
             [
              0.5555555555555556,
              "#d8576b"
             ],
             [
              0.6666666666666666,
              "#ed7953"
             ],
             [
              0.7777777777777778,
              "#fb9f3a"
             ],
             [
              0.8888888888888888,
              "#fdca26"
             ],
             [
              1,
              "#f0f921"
             ]
            ],
            "type": "histogram2d"
           }
          ],
          "histogram2dcontour": [
           {
            "colorbar": {
             "outlinewidth": 0,
             "ticks": ""
            },
            "colorscale": [
             [
              0,
              "#0d0887"
             ],
             [
              0.1111111111111111,
              "#46039f"
             ],
             [
              0.2222222222222222,
              "#7201a8"
             ],
             [
              0.3333333333333333,
              "#9c179e"
             ],
             [
              0.4444444444444444,
              "#bd3786"
             ],
             [
              0.5555555555555556,
              "#d8576b"
             ],
             [
              0.6666666666666666,
              "#ed7953"
             ],
             [
              0.7777777777777778,
              "#fb9f3a"
             ],
             [
              0.8888888888888888,
              "#fdca26"
             ],
             [
              1,
              "#f0f921"
             ]
            ],
            "type": "histogram2dcontour"
           }
          ],
          "mesh3d": [
           {
            "colorbar": {
             "outlinewidth": 0,
             "ticks": ""
            },
            "type": "mesh3d"
           }
          ],
          "parcoords": [
           {
            "line": {
             "colorbar": {
              "outlinewidth": 0,
              "ticks": ""
             }
            },
            "type": "parcoords"
           }
          ],
          "pie": [
           {
            "automargin": true,
            "type": "pie"
           }
          ],
          "scatter": [
           {
            "fillpattern": {
             "fillmode": "overlay",
             "size": 10,
             "solidity": 0.2
            },
            "type": "scatter"
           }
          ],
          "scatter3d": [
           {
            "line": {
             "colorbar": {
              "outlinewidth": 0,
              "ticks": ""
             }
            },
            "marker": {
             "colorbar": {
              "outlinewidth": 0,
              "ticks": ""
             }
            },
            "type": "scatter3d"
           }
          ],
          "scattercarpet": [
           {
            "marker": {
             "colorbar": {
              "outlinewidth": 0,
              "ticks": ""
             }
            },
            "type": "scattercarpet"
           }
          ],
          "scattergeo": [
           {
            "marker": {
             "colorbar": {
              "outlinewidth": 0,
              "ticks": ""
             }
            },
            "type": "scattergeo"
           }
          ],
          "scattergl": [
           {
            "marker": {
             "colorbar": {
              "outlinewidth": 0,
              "ticks": ""
             }
            },
            "type": "scattergl"
           }
          ],
          "scattermapbox": [
           {
            "marker": {
             "colorbar": {
              "outlinewidth": 0,
              "ticks": ""
             }
            },
            "type": "scattermapbox"
           }
          ],
          "scatterpolar": [
           {
            "marker": {
             "colorbar": {
              "outlinewidth": 0,
              "ticks": ""
             }
            },
            "type": "scatterpolar"
           }
          ],
          "scatterpolargl": [
           {
            "marker": {
             "colorbar": {
              "outlinewidth": 0,
              "ticks": ""
             }
            },
            "type": "scatterpolargl"
           }
          ],
          "scatterternary": [
           {
            "marker": {
             "colorbar": {
              "outlinewidth": 0,
              "ticks": ""
             }
            },
            "type": "scatterternary"
           }
          ],
          "surface": [
           {
            "colorbar": {
             "outlinewidth": 0,
             "ticks": ""
            },
            "colorscale": [
             [
              0,
              "#0d0887"
             ],
             [
              0.1111111111111111,
              "#46039f"
             ],
             [
              0.2222222222222222,
              "#7201a8"
             ],
             [
              0.3333333333333333,
              "#9c179e"
             ],
             [
              0.4444444444444444,
              "#bd3786"
             ],
             [
              0.5555555555555556,
              "#d8576b"
             ],
             [
              0.6666666666666666,
              "#ed7953"
             ],
             [
              0.7777777777777778,
              "#fb9f3a"
             ],
             [
              0.8888888888888888,
              "#fdca26"
             ],
             [
              1,
              "#f0f921"
             ]
            ],
            "type": "surface"
           }
          ],
          "table": [
           {
            "cells": {
             "fill": {
              "color": "#EBF0F8"
             },
             "line": {
              "color": "white"
             }
            },
            "header": {
             "fill": {
              "color": "#C8D4E3"
             },
             "line": {
              "color": "white"
             }
            },
            "type": "table"
           }
          ]
         },
         "layout": {
          "annotationdefaults": {
           "arrowcolor": "#2a3f5f",
           "arrowhead": 0,
           "arrowwidth": 1
          },
          "autotypenumbers": "strict",
          "coloraxis": {
           "colorbar": {
            "outlinewidth": 0,
            "ticks": ""
           }
          },
          "colorscale": {
           "diverging": [
            [
             0,
             "#8e0152"
            ],
            [
             0.1,
             "#c51b7d"
            ],
            [
             0.2,
             "#de77ae"
            ],
            [
             0.3,
             "#f1b6da"
            ],
            [
             0.4,
             "#fde0ef"
            ],
            [
             0.5,
             "#f7f7f7"
            ],
            [
             0.6,
             "#e6f5d0"
            ],
            [
             0.7,
             "#b8e186"
            ],
            [
             0.8,
             "#7fbc41"
            ],
            [
             0.9,
             "#4d9221"
            ],
            [
             1,
             "#276419"
            ]
           ],
           "sequential": [
            [
             0,
             "#0d0887"
            ],
            [
             0.1111111111111111,
             "#46039f"
            ],
            [
             0.2222222222222222,
             "#7201a8"
            ],
            [
             0.3333333333333333,
             "#9c179e"
            ],
            [
             0.4444444444444444,
             "#bd3786"
            ],
            [
             0.5555555555555556,
             "#d8576b"
            ],
            [
             0.6666666666666666,
             "#ed7953"
            ],
            [
             0.7777777777777778,
             "#fb9f3a"
            ],
            [
             0.8888888888888888,
             "#fdca26"
            ],
            [
             1,
             "#f0f921"
            ]
           ],
           "sequentialminus": [
            [
             0,
             "#0d0887"
            ],
            [
             0.1111111111111111,
             "#46039f"
            ],
            [
             0.2222222222222222,
             "#7201a8"
            ],
            [
             0.3333333333333333,
             "#9c179e"
            ],
            [
             0.4444444444444444,
             "#bd3786"
            ],
            [
             0.5555555555555556,
             "#d8576b"
            ],
            [
             0.6666666666666666,
             "#ed7953"
            ],
            [
             0.7777777777777778,
             "#fb9f3a"
            ],
            [
             0.8888888888888888,
             "#fdca26"
            ],
            [
             1,
             "#f0f921"
            ]
           ]
          },
          "colorway": [
           "#636efa",
           "#EF553B",
           "#00cc96",
           "#ab63fa",
           "#FFA15A",
           "#19d3f3",
           "#FF6692",
           "#B6E880",
           "#FF97FF",
           "#FECB52"
          ],
          "font": {
           "color": "#2a3f5f"
          },
          "geo": {
           "bgcolor": "white",
           "lakecolor": "white",
           "landcolor": "#E5ECF6",
           "showlakes": true,
           "showland": true,
           "subunitcolor": "white"
          },
          "hoverlabel": {
           "align": "left"
          },
          "hovermode": "closest",
          "mapbox": {
           "style": "light"
          },
          "paper_bgcolor": "white",
          "plot_bgcolor": "#E5ECF6",
          "polar": {
           "angularaxis": {
            "gridcolor": "white",
            "linecolor": "white",
            "ticks": ""
           },
           "bgcolor": "#E5ECF6",
           "radialaxis": {
            "gridcolor": "white",
            "linecolor": "white",
            "ticks": ""
           }
          },
          "scene": {
           "xaxis": {
            "backgroundcolor": "#E5ECF6",
            "gridcolor": "white",
            "gridwidth": 2,
            "linecolor": "white",
            "showbackground": true,
            "ticks": "",
            "zerolinecolor": "white"
           },
           "yaxis": {
            "backgroundcolor": "#E5ECF6",
            "gridcolor": "white",
            "gridwidth": 2,
            "linecolor": "white",
            "showbackground": true,
            "ticks": "",
            "zerolinecolor": "white"
           },
           "zaxis": {
            "backgroundcolor": "#E5ECF6",
            "gridcolor": "white",
            "gridwidth": 2,
            "linecolor": "white",
            "showbackground": true,
            "ticks": "",
            "zerolinecolor": "white"
           }
          },
          "shapedefaults": {
           "line": {
            "color": "#2a3f5f"
           }
          },
          "ternary": {
           "aaxis": {
            "gridcolor": "white",
            "linecolor": "white",
            "ticks": ""
           },
           "baxis": {
            "gridcolor": "white",
            "linecolor": "white",
            "ticks": ""
           },
           "bgcolor": "#E5ECF6",
           "caxis": {
            "gridcolor": "white",
            "linecolor": "white",
            "ticks": ""
           }
          },
          "title": {
           "x": 0.05
          },
          "xaxis": {
           "automargin": true,
           "gridcolor": "white",
           "linecolor": "white",
           "ticks": "",
           "title": {
            "standoff": 15
           },
           "zerolinecolor": "white",
           "zerolinewidth": 2
          },
          "yaxis": {
           "automargin": true,
           "gridcolor": "white",
           "linecolor": "white",
           "ticks": "",
           "title": {
            "standoff": 15
           },
           "zerolinecolor": "white",
           "zerolinewidth": 2
          }
         }
        },
        "width": 2500,
        "xaxis": {
         "anchor": "y",
         "domain": [
          0,
          1
         ],
         "title": {
          "text": "celltype"
         }
        },
        "yaxis": {
         "anchor": "x",
         "domain": [
          0,
          1
         ],
         "title": {
          "text": "metric_value"
         }
        }
       }
      }
     },
     "metadata": {},
     "output_type": "display_data"
    }
   ],
   "source": [
    "import pandas as pd\n",
    "import plotly.express as px\n",
    "import numpy as np\n",
    "import plotly.io as pio\n",
    "\n",
    "\n",
    "#Load the fist dataframe.\n",
    "df1 = pd.read_csv('./r3-fine.csv')\n",
    "df1 = df1.loc[df1.is_latest & (df1.metric == 'pearson')]\n",
    "df1 = df1.groupby(['submitter', 'celltype']).mean(numeric_only=True).reset_index()\n",
    "df1['Test'] = 'r3fine'  # Add a column to distinguish this batch of data\n",
    "\n",
    "# Load the second dataframe.\n",
    "df2 = pd.read_csv('./r4-fine.csv')\n",
    "df2 = df2.loc[df2.is_latest & (df2.metric == 'pearson')]\n",
    "df2 = df2.groupby(['submitter', 'celltype']).mean(numeric_only=True).reset_index()\n",
    "df2['Test'] = 'r4fine'  # Add a column to distinguish this batch of data\n",
    "\n",
    "# Combine the dataframes\n",
    "df = pd.concat([df1, df2])\n",
    "# Plot\n",
    "fig = px.box(df, y='metric_value', x='celltype', color='Test', hover_name='submitter', points='all', height=1000, width=2500, category_orders={\"Test\": [\"r3fine\", \"r4fine\"]})\n",
    "# Update layout if needed\n",
    "fig.update_layout(font=dict(size=24))\n",
    "fig.show()\n",
    "\n",
    "#df = df.loc[df.is_latest]\n",
    "#df = df.loc[df.metric == 'pearson']\n",
    "#df = df.groupby(['submitter', 'celltype']).mean(numeric_only=True)\n",
    "#df = df.reset_index()\n",
    "\n",
    "#Creating a new column with colors.\n",
    "#df['mcolour'] = np.where(df.submitter == 'D3Team', 'YADA', 'Other')\n",
    "#fig = px.box(df.reset_index(), y = 'metric_value', x = 'celltype', hover_name = 'submitter', points = 'all', height=4000, width=6000, color = 'mcolour')\n",
    "#fig = px.box(df.reset_index(), y = 'metric_value', x = 'celltype', hover_name = 'submitter', points = 'all', height=1000, width=2500, color = 'mcolour')\n",
    "\n",
    "# Set font size for text\n",
    "#fig.update_layout(font=dict(size=24))  # Adjust the font size as needed\n",
    "#fig.show()"
   ]
  },
  {
   "cell_type": "code",
   "execution_count": 4,
   "metadata": {},
   "outputs": [
    {
     "data": {
      "application/vnd.plotly.v1+json": {
       "config": {
        "plotlyServerURL": "https://plot.ly"
       },
       "data": [
        {
         "alignmentgroup": "True",
         "boxpoints": "all",
         "hovertemplate": "<b>%{hovertext}</b><br><br>Test=round3<br>celltype=%{x}<br>metric_value=%{y}<extra></extra>",
         "hovertext": [
          "Aboensis IV",
          "Aboensis IV",
          "Aboensis IV",
          "Aboensis IV",
          "Aboensis IV",
          "Aboensis IV",
          "Aboensis IV",
          "Aboensis IV",
          "Aboensis IV",
          "Aboensis IV",
          "Aboensis IV",
          "Aboensis IV",
          "Aginome-XMU",
          "Aginome-XMU",
          "Aginome-XMU",
          "Aginome-XMU",
          "Aginome-XMU",
          "Aginome-XMU",
          "Aginome-XMU",
          "Aginome-XMU",
          "Aginome-XMU",
          "Aginome-XMU",
          "Aginome-XMU",
          "Aginome-XMU",
          "CCB",
          "CCB",
          "CCB",
          "CCB",
          "CCB",
          "CCB",
          "CCB",
          "CCB",
          "CCB",
          "CCB",
          "CCB",
          "CCB",
          "Cancer_Decon",
          "Cancer_Decon",
          "Cancer_Decon",
          "Cancer_Decon",
          "Cancer_Decon",
          "Cancer_Decon",
          "Cancer_Decon",
          "Cancer_Decon",
          "Cancer_Decon",
          "Cancer_Decon",
          "Cancer_Decon",
          "Cancer_Decon",
          "D3Team",
          "D3Team",
          "D3Team",
          "D3Team",
          "D3Team",
          "D3Team",
          "D3Team",
          "D3Team",
          "D3Team",
          "D3Team",
          "D3Team",
          "D3Team",
          "DA_505",
          "DA_505",
          "DA_505",
          "DA_505",
          "DA_505",
          "DA_505",
          "DA_505",
          "DA_505",
          "DA_505",
          "DA_505",
          "DA_505",
          "DA_505",
          "ICTD",
          "ICTD",
          "ICTD",
          "ICTD",
          "ICTD",
          "ICTD",
          "ICTD",
          "ICTD",
          "ICTD",
          "ICTD",
          "ICTD",
          "ICTD",
          "IZI",
          "IZI",
          "IZI",
          "IZI",
          "IZI",
          "IZI",
          "IZI",
          "IZI",
          "IZI",
          "IZI",
          "IZI",
          "IZI",
          "LeiliLab",
          "LeiliLab",
          "LeiliLab",
          "LeiliLab",
          "LeiliLab",
          "LeiliLab",
          "LeiliLab",
          "LeiliLab",
          "LeiliLab",
          "LeiliLab",
          "LeiliLab",
          "LeiliLab",
          "Northwestern Polytechnical University",
          "Northwestern Polytechnical University",
          "Northwestern Polytechnical University",
          "Northwestern Polytechnical University",
          "Northwestern Polytechnical University",
          "Northwestern Polytechnical University",
          "Northwestern Polytechnical University",
          "Northwestern Polytechnical University",
          "Northwestern Polytechnical University",
          "Northwestern Polytechnical University",
          "Northwestern Polytechnical University",
          "Northwestern Polytechnical University",
          "REGGEN_LAB",
          "REGGEN_LAB",
          "REGGEN_LAB",
          "REGGEN_LAB",
          "REGGEN_LAB",
          "REGGEN_LAB",
          "REGGEN_LAB",
          "REGGEN_LAB",
          "REGGEN_LAB",
          "REGGEN_LAB",
          "REGGEN_LAB",
          "REGGEN_LAB",
          "Rubbernecks",
          "Rubbernecks",
          "Rubbernecks",
          "Rubbernecks",
          "Rubbernecks",
          "Rubbernecks",
          "Rubbernecks",
          "Rubbernecks",
          "Rubbernecks",
          "Rubbernecks",
          "Rubbernecks",
          "Rubbernecks",
          "Tonys Boys",
          "Tonys Boys",
          "Tonys Boys",
          "Tonys Boys",
          "Tonys Boys",
          "Tonys Boys",
          "Tonys Boys",
          "Tonys Boys",
          "Tonys Boys",
          "Tonys Boys",
          "Tonys Boys",
          "Tonys Boys",
          "VUmc_TGAC",
          "VUmc_TGAC",
          "VUmc_TGAC",
          "VUmc_TGAC",
          "VUmc_TGAC",
          "VUmc_TGAC",
          "VUmc_TGAC",
          "VUmc_TGAC",
          "VUmc_TGAC",
          "VUmc_TGAC",
          "VUmc_TGAC",
          "VUmc_TGAC",
          "andrewelamb",
          "andrewelamb",
          "andrewelamb",
          "andrewelamb",
          "andrewelamb",
          "andrewelamb",
          "andrewelamb",
          "andrewelamb",
          "andrewelamb",
          "andrewelamb",
          "andrewelamb",
          "andrewelamb",
          "mitten_TDC19",
          "mitten_TDC19",
          "mitten_TDC19",
          "mitten_TDC19",
          "mitten_TDC19",
          "mitten_TDC19",
          "mitten_TDC19",
          "mitten_TDC19",
          "mitten_TDC19",
          "mitten_TDC19",
          "mitten_TDC19",
          "mitten_TDC19"
         ],
         "legendgroup": "round3",
         "marker": {
          "color": "#636efa"
         },
         "name": "round3",
         "notched": false,
         "offsetgroup": "round3",
         "orientation": "v",
         "showlegend": true,
         "type": "box",
         "x": [
          "NK.cells",
          "macrophages",
          "memory.B.cells",
          "memory.CD4.T.cells",
          "memory.CD8.T.cells",
          "monocytes",
          "myeloid.dendritic.cells",
          "naive.B.cells",
          "naive.CD4.T.cells",
          "naive.CD8.T.cells",
          "neutrophils",
          "regulatory.T.cells",
          "NK.cells",
          "macrophages",
          "memory.B.cells",
          "memory.CD4.T.cells",
          "memory.CD8.T.cells",
          "monocytes",
          "myeloid.dendritic.cells",
          "naive.B.cells",
          "naive.CD4.T.cells",
          "naive.CD8.T.cells",
          "neutrophils",
          "regulatory.T.cells",
          "NK.cells",
          "macrophages",
          "memory.B.cells",
          "memory.CD4.T.cells",
          "memory.CD8.T.cells",
          "monocytes",
          "myeloid.dendritic.cells",
          "naive.B.cells",
          "naive.CD4.T.cells",
          "naive.CD8.T.cells",
          "neutrophils",
          "regulatory.T.cells",
          "NK.cells",
          "macrophages",
          "memory.B.cells",
          "memory.CD4.T.cells",
          "memory.CD8.T.cells",
          "monocytes",
          "myeloid.dendritic.cells",
          "naive.B.cells",
          "naive.CD4.T.cells",
          "naive.CD8.T.cells",
          "neutrophils",
          "regulatory.T.cells",
          "NK.cells",
          "macrophages",
          "memory.B.cells",
          "memory.CD4.T.cells",
          "memory.CD8.T.cells",
          "monocytes",
          "myeloid.dendritic.cells",
          "naive.B.cells",
          "naive.CD4.T.cells",
          "naive.CD8.T.cells",
          "neutrophils",
          "regulatory.T.cells",
          "NK.cells",
          "macrophages",
          "memory.B.cells",
          "memory.CD4.T.cells",
          "memory.CD8.T.cells",
          "monocytes",
          "myeloid.dendritic.cells",
          "naive.B.cells",
          "naive.CD4.T.cells",
          "naive.CD8.T.cells",
          "neutrophils",
          "regulatory.T.cells",
          "NK.cells",
          "macrophages",
          "memory.B.cells",
          "memory.CD4.T.cells",
          "memory.CD8.T.cells",
          "monocytes",
          "myeloid.dendritic.cells",
          "naive.B.cells",
          "naive.CD4.T.cells",
          "naive.CD8.T.cells",
          "neutrophils",
          "regulatory.T.cells",
          "NK.cells",
          "macrophages",
          "memory.B.cells",
          "memory.CD4.T.cells",
          "memory.CD8.T.cells",
          "monocytes",
          "myeloid.dendritic.cells",
          "naive.B.cells",
          "naive.CD4.T.cells",
          "naive.CD8.T.cells",
          "neutrophils",
          "regulatory.T.cells",
          "NK.cells",
          "macrophages",
          "memory.B.cells",
          "memory.CD4.T.cells",
          "memory.CD8.T.cells",
          "monocytes",
          "myeloid.dendritic.cells",
          "naive.B.cells",
          "naive.CD4.T.cells",
          "naive.CD8.T.cells",
          "neutrophils",
          "regulatory.T.cells",
          "NK.cells",
          "macrophages",
          "memory.B.cells",
          "memory.CD4.T.cells",
          "memory.CD8.T.cells",
          "monocytes",
          "myeloid.dendritic.cells",
          "naive.B.cells",
          "naive.CD4.T.cells",
          "naive.CD8.T.cells",
          "neutrophils",
          "regulatory.T.cells",
          "NK.cells",
          "macrophages",
          "memory.B.cells",
          "memory.CD4.T.cells",
          "memory.CD8.T.cells",
          "monocytes",
          "myeloid.dendritic.cells",
          "naive.B.cells",
          "naive.CD4.T.cells",
          "naive.CD8.T.cells",
          "neutrophils",
          "regulatory.T.cells",
          "NK.cells",
          "macrophages",
          "memory.B.cells",
          "memory.CD4.T.cells",
          "memory.CD8.T.cells",
          "monocytes",
          "myeloid.dendritic.cells",
          "naive.B.cells",
          "naive.CD4.T.cells",
          "naive.CD8.T.cells",
          "neutrophils",
          "regulatory.T.cells",
          "NK.cells",
          "macrophages",
          "memory.B.cells",
          "memory.CD4.T.cells",
          "memory.CD8.T.cells",
          "monocytes",
          "myeloid.dendritic.cells",
          "naive.B.cells",
          "naive.CD4.T.cells",
          "naive.CD8.T.cells",
          "neutrophils",
          "regulatory.T.cells",
          "NK.cells",
          "macrophages",
          "memory.B.cells",
          "memory.CD4.T.cells",
          "memory.CD8.T.cells",
          "monocytes",
          "myeloid.dendritic.cells",
          "naive.B.cells",
          "naive.CD4.T.cells",
          "naive.CD8.T.cells",
          "neutrophils",
          "regulatory.T.cells",
          "NK.cells",
          "macrophages",
          "memory.B.cells",
          "memory.CD4.T.cells",
          "memory.CD8.T.cells",
          "monocytes",
          "myeloid.dendritic.cells",
          "naive.B.cells",
          "naive.CD4.T.cells",
          "naive.CD8.T.cells",
          "neutrophils",
          "regulatory.T.cells",
          "NK.cells",
          "macrophages",
          "memory.B.cells",
          "memory.CD4.T.cells",
          "memory.CD8.T.cells",
          "monocytes",
          "myeloid.dendritic.cells",
          "naive.B.cells",
          "naive.CD4.T.cells",
          "naive.CD8.T.cells",
          "neutrophils",
          "regulatory.T.cells"
         ],
         "x0": " ",
         "xaxis": "x",
         "y": [
          0.717,
          0.136,
          0.3575,
          0.897,
          0.308,
          0.54025,
          0.544,
          0.942,
          0.495,
          0.7685,
          0.60075,
          0.345,
          0.8562,
          0.605,
          0.55,
          0.663,
          0.51,
          0.8664999999999999,
          0.92275,
          0.9855,
          0.59,
          0.714,
          0.66025,
          0.8,
          0.6524,
          0.847,
          0.722,
          0.81,
          0.735,
          0.85525,
          0.57475,
          0.927,
          0.388,
          0.314,
          0.73425,
          0.978,
          0.6756,
          0.713,
          0.537,
          0.858,
          0.2495,
          0.8007500000000001,
          0.76725,
          0.8975,
          0.289,
          0.1915,
          0.4325,
          0.992,
          0.7762,
          0.75,
          0.23600000000000002,
          0.678,
          0.8275,
          0.85775,
          0.85875,
          0.956,
          0.424,
          0.558,
          0.64575,
          0.984,
          0.8202,
          0.789,
          0.66,
          0.948,
          0.7725,
          0.9175,
          0.7789999999999999,
          0.9724999999999999,
          0.814,
          0.5765,
          0.75425,
          0.859,
          0.6756,
          0.713,
          0.537,
          0.858,
          0.2495,
          0.8007500000000001,
          0.76725,
          0.8975,
          0.289,
          0.1915,
          0.4325,
          0.992,
          0.0948,
          0.773,
          0.491,
          0.41,
          0.3335,
          0.55875,
          0.7965,
          0.497,
          0.177,
          -0.0505,
          0.7975,
          0.571,
          0.6288,
          0.604,
          0.0615,
          0.645,
          0.315,
          0.675,
          0.78075,
          0,
          0.28,
          0.8334999999999999,
          0.682,
          0.876,
          -0.04979999999999999,
          0.297,
          0,
          0,
          0.5945,
          0.32225000000000004,
          0.319,
          0.223,
          0,
          0.257,
          0.2875,
          0.049,
          0.47640000000000005,
          0.485,
          0.14100000000000001,
          -0.035,
          0.18000000000000002,
          0.5017499999999999,
          -0.023249999999999993,
          0.6890000000000001,
          -0.301,
          0.21649999999999997,
          0.4065,
          0.407,
          0.7028,
          0.844,
          0.36950000000000005,
          0.87,
          0.6805,
          0.67575,
          0.7565000000000001,
          0.0705,
          0.312,
          0.2345,
          0.5529999999999999,
          0.365,
          0.7342000000000001,
          0.652,
          0.7065,
          -0.136,
          0.8069999999999999,
          0.434,
          0.647,
          0.982,
          0.317,
          0.8400000000000001,
          0,
          0.98,
          0.44000000000000006,
          0.409,
          0.46249999999999997,
          0.903,
          0.2935,
          0.38425,
          0.26675,
          0.392,
          0.111,
          0.12100000000000001,
          0.264,
          0.288,
          0.7904,
          0.759,
          0.9405,
          0.93,
          0.4165,
          0.8999999999999999,
          0.65675,
          0.9864999999999999,
          0.647,
          0.07600000000000001,
          0.72725,
          0.805,
          0.7604,
          0.581,
          0.3845,
          -0.002,
          0.6659999999999999,
          0.8707499999999999,
          0.584,
          0.6739999999999999,
          0.295,
          0.5255,
          0.83175,
          0.107
         ],
         "y0": " ",
         "yaxis": "y"
        },
        {
         "alignmentgroup": "True",
         "boxpoints": "all",
         "hovertemplate": "<b>%{hovertext}</b><br><br>Test=round4<br>celltype=%{x}<br>metric_value=%{y}<extra></extra>",
         "hovertext": [
          "Aboensis IV",
          "Aboensis IV",
          "Aboensis IV",
          "Aboensis IV",
          "Aboensis IV",
          "Aboensis IV",
          "Aboensis IV",
          "Aboensis IV",
          "Aboensis IV",
          "Aboensis IV",
          "Aboensis IV",
          "Aboensis IV",
          "Aboensis IV",
          "Aboensis IV",
          "Aginome-XMU",
          "Aginome-XMU",
          "Aginome-XMU",
          "Aginome-XMU",
          "Aginome-XMU",
          "Aginome-XMU",
          "Aginome-XMU",
          "Aginome-XMU",
          "Aginome-XMU",
          "Aginome-XMU",
          "Aginome-XMU",
          "Aginome-XMU",
          "Aginome-XMU",
          "Aginome-XMU",
          "Biogem",
          "Biogem",
          "Biogem",
          "Biogem",
          "Biogem",
          "Biogem",
          "Biogem",
          "Biogem",
          "Biogem",
          "Biogem",
          "Biogem",
          "Biogem",
          "Biogem",
          "Biogem",
          "CCB",
          "CCB",
          "CCB",
          "CCB",
          "CCB",
          "CCB",
          "CCB",
          "CCB",
          "CCB",
          "CCB",
          "CCB",
          "CCB",
          "CCB",
          "CCB",
          "Cancer_Decon",
          "Cancer_Decon",
          "Cancer_Decon",
          "Cancer_Decon",
          "Cancer_Decon",
          "Cancer_Decon",
          "Cancer_Decon",
          "Cancer_Decon",
          "Cancer_Decon",
          "Cancer_Decon",
          "Cancer_Decon",
          "Cancer_Decon",
          "Cancer_Decon",
          "Cancer_Decon",
          "D3Team",
          "D3Team",
          "D3Team",
          "D3Team",
          "D3Team",
          "D3Team",
          "D3Team",
          "D3Team",
          "D3Team",
          "D3Team",
          "D3Team",
          "D3Team",
          "D3Team",
          "D3Team",
          "DA_505",
          "DA_505",
          "DA_505",
          "DA_505",
          "DA_505",
          "DA_505",
          "DA_505",
          "DA_505",
          "DA_505",
          "DA_505",
          "DA_505",
          "DA_505",
          "DA_505",
          "DA_505",
          "ICTD",
          "ICTD",
          "ICTD",
          "ICTD",
          "ICTD",
          "ICTD",
          "ICTD",
          "ICTD",
          "ICTD",
          "ICTD",
          "ICTD",
          "ICTD",
          "ICTD",
          "ICTD",
          "IZI",
          "IZI",
          "IZI",
          "IZI",
          "IZI",
          "IZI",
          "IZI",
          "IZI",
          "IZI",
          "IZI",
          "IZI",
          "IZI",
          "IZI",
          "IZI",
          "LeiliLab",
          "LeiliLab",
          "LeiliLab",
          "LeiliLab",
          "LeiliLab",
          "LeiliLab",
          "LeiliLab",
          "LeiliLab",
          "LeiliLab",
          "LeiliLab",
          "LeiliLab",
          "LeiliLab",
          "LeiliLab",
          "LeiliLab",
          "Northwestern Polytechnical University",
          "Northwestern Polytechnical University",
          "Northwestern Polytechnical University",
          "Northwestern Polytechnical University",
          "Northwestern Polytechnical University",
          "Northwestern Polytechnical University",
          "Northwestern Polytechnical University",
          "Northwestern Polytechnical University",
          "Northwestern Polytechnical University",
          "Northwestern Polytechnical University",
          "Northwestern Polytechnical University",
          "Northwestern Polytechnical University",
          "Northwestern Polytechnical University",
          "Northwestern Polytechnical University",
          "Patrick",
          "Patrick",
          "Patrick",
          "Patrick",
          "Patrick",
          "Patrick",
          "Patrick",
          "Patrick",
          "Patrick",
          "Patrick",
          "Patrick",
          "Patrick",
          "Patrick",
          "Patrick",
          "REGGEN_LAB",
          "REGGEN_LAB",
          "REGGEN_LAB",
          "REGGEN_LAB",
          "REGGEN_LAB",
          "REGGEN_LAB",
          "REGGEN_LAB",
          "REGGEN_LAB",
          "REGGEN_LAB",
          "REGGEN_LAB",
          "REGGEN_LAB",
          "REGGEN_LAB",
          "REGGEN_LAB",
          "REGGEN_LAB",
          "Rubbernecks",
          "Rubbernecks",
          "Rubbernecks",
          "Rubbernecks",
          "Rubbernecks",
          "Rubbernecks",
          "Rubbernecks",
          "Rubbernecks",
          "Rubbernecks",
          "Rubbernecks",
          "Rubbernecks",
          "Rubbernecks",
          "Rubbernecks",
          "Rubbernecks",
          "Tonys Boys",
          "Tonys Boys",
          "Tonys Boys",
          "Tonys Boys",
          "Tonys Boys",
          "Tonys Boys",
          "Tonys Boys",
          "Tonys Boys",
          "Tonys Boys",
          "Tonys Boys",
          "Tonys Boys",
          "Tonys Boys",
          "Tonys Boys",
          "Tonys Boys",
          "andrewelamb",
          "andrewelamb",
          "andrewelamb",
          "andrewelamb",
          "andrewelamb",
          "andrewelamb",
          "andrewelamb",
          "andrewelamb",
          "andrewelamb",
          "andrewelamb",
          "andrewelamb",
          "andrewelamb",
          "andrewelamb",
          "andrewelamb",
          "mitten_TDC19",
          "mitten_TDC19",
          "mitten_TDC19",
          "mitten_TDC19",
          "mitten_TDC19",
          "mitten_TDC19",
          "mitten_TDC19",
          "mitten_TDC19",
          "mitten_TDC19",
          "mitten_TDC19",
          "mitten_TDC19",
          "mitten_TDC19",
          "mitten_TDC19",
          "mitten_TDC19"
         ],
         "legendgroup": "round4",
         "marker": {
          "color": "#EF553B"
         },
         "name": "round4",
         "notched": false,
         "offsetgroup": "round4",
         "orientation": "v",
         "showlegend": true,
         "type": "box",
         "x": [
          "Grand mean",
          "NK.cells",
          "endothelial.cells",
          "fibroblasts",
          "macrophages",
          "memory.CD4.T.cells",
          "memory.CD8.T.cells",
          "monocytes",
          "myeloid.dendritic.cells",
          "naive.B.cells",
          "naive.CD4.T.cells",
          "naive.CD8.T.cells",
          "neutrophils",
          "regulatory.T.cells",
          "Grand mean",
          "NK.cells",
          "endothelial.cells",
          "fibroblasts",
          "macrophages",
          "memory.CD4.T.cells",
          "memory.CD8.T.cells",
          "monocytes",
          "myeloid.dendritic.cells",
          "naive.B.cells",
          "naive.CD4.T.cells",
          "naive.CD8.T.cells",
          "neutrophils",
          "regulatory.T.cells",
          "Grand mean",
          "NK.cells",
          "endothelial.cells",
          "fibroblasts",
          "macrophages",
          "memory.CD4.T.cells",
          "memory.CD8.T.cells",
          "monocytes",
          "myeloid.dendritic.cells",
          "naive.B.cells",
          "naive.CD4.T.cells",
          "naive.CD8.T.cells",
          "neutrophils",
          "regulatory.T.cells",
          "Grand mean",
          "NK.cells",
          "endothelial.cells",
          "fibroblasts",
          "macrophages",
          "memory.CD4.T.cells",
          "memory.CD8.T.cells",
          "monocytes",
          "myeloid.dendritic.cells",
          "naive.B.cells",
          "naive.CD4.T.cells",
          "naive.CD8.T.cells",
          "neutrophils",
          "regulatory.T.cells",
          "Grand mean",
          "NK.cells",
          "endothelial.cells",
          "fibroblasts",
          "macrophages",
          "memory.CD4.T.cells",
          "memory.CD8.T.cells",
          "monocytes",
          "myeloid.dendritic.cells",
          "naive.B.cells",
          "naive.CD4.T.cells",
          "naive.CD8.T.cells",
          "neutrophils",
          "regulatory.T.cells",
          "Grand mean",
          "NK.cells",
          "endothelial.cells",
          "fibroblasts",
          "macrophages",
          "memory.CD4.T.cells",
          "memory.CD8.T.cells",
          "monocytes",
          "myeloid.dendritic.cells",
          "naive.B.cells",
          "naive.CD4.T.cells",
          "naive.CD8.T.cells",
          "neutrophils",
          "regulatory.T.cells",
          "Grand mean",
          "NK.cells",
          "endothelial.cells",
          "fibroblasts",
          "macrophages",
          "memory.CD4.T.cells",
          "memory.CD8.T.cells",
          "monocytes",
          "myeloid.dendritic.cells",
          "naive.B.cells",
          "naive.CD4.T.cells",
          "naive.CD8.T.cells",
          "neutrophils",
          "regulatory.T.cells",
          "Grand mean",
          "NK.cells",
          "endothelial.cells",
          "fibroblasts",
          "macrophages",
          "memory.CD4.T.cells",
          "memory.CD8.T.cells",
          "monocytes",
          "myeloid.dendritic.cells",
          "naive.B.cells",
          "naive.CD4.T.cells",
          "naive.CD8.T.cells",
          "neutrophils",
          "regulatory.T.cells",
          "Grand mean",
          "NK.cells",
          "endothelial.cells",
          "fibroblasts",
          "macrophages",
          "memory.CD4.T.cells",
          "memory.CD8.T.cells",
          "monocytes",
          "myeloid.dendritic.cells",
          "naive.B.cells",
          "naive.CD4.T.cells",
          "naive.CD8.T.cells",
          "neutrophils",
          "regulatory.T.cells",
          "Grand mean",
          "NK.cells",
          "endothelial.cells",
          "fibroblasts",
          "macrophages",
          "memory.CD4.T.cells",
          "memory.CD8.T.cells",
          "monocytes",
          "myeloid.dendritic.cells",
          "naive.B.cells",
          "naive.CD4.T.cells",
          "naive.CD8.T.cells",
          "neutrophils",
          "regulatory.T.cells",
          "Grand mean",
          "NK.cells",
          "endothelial.cells",
          "fibroblasts",
          "macrophages",
          "memory.CD4.T.cells",
          "memory.CD8.T.cells",
          "monocytes",
          "myeloid.dendritic.cells",
          "naive.B.cells",
          "naive.CD4.T.cells",
          "naive.CD8.T.cells",
          "neutrophils",
          "regulatory.T.cells",
          "Grand mean",
          "NK.cells",
          "endothelial.cells",
          "fibroblasts",
          "macrophages",
          "memory.CD4.T.cells",
          "memory.CD8.T.cells",
          "monocytes",
          "myeloid.dendritic.cells",
          "naive.B.cells",
          "naive.CD4.T.cells",
          "naive.CD8.T.cells",
          "neutrophils",
          "regulatory.T.cells",
          "Grand mean",
          "NK.cells",
          "endothelial.cells",
          "fibroblasts",
          "macrophages",
          "memory.CD4.T.cells",
          "memory.CD8.T.cells",
          "monocytes",
          "myeloid.dendritic.cells",
          "naive.B.cells",
          "naive.CD4.T.cells",
          "naive.CD8.T.cells",
          "neutrophils",
          "regulatory.T.cells",
          "Grand mean",
          "NK.cells",
          "endothelial.cells",
          "fibroblasts",
          "macrophages",
          "memory.CD4.T.cells",
          "memory.CD8.T.cells",
          "monocytes",
          "myeloid.dendritic.cells",
          "naive.B.cells",
          "naive.CD4.T.cells",
          "naive.CD8.T.cells",
          "neutrophils",
          "regulatory.T.cells",
          "Grand mean",
          "NK.cells",
          "endothelial.cells",
          "fibroblasts",
          "macrophages",
          "memory.CD4.T.cells",
          "memory.CD8.T.cells",
          "monocytes",
          "myeloid.dendritic.cells",
          "naive.B.cells",
          "naive.CD4.T.cells",
          "naive.CD8.T.cells",
          "neutrophils",
          "regulatory.T.cells",
          "Grand mean",
          "NK.cells",
          "endothelial.cells",
          "fibroblasts",
          "macrophages",
          "memory.CD4.T.cells",
          "memory.CD8.T.cells",
          "monocytes",
          "myeloid.dendritic.cells",
          "naive.B.cells",
          "naive.CD4.T.cells",
          "naive.CD8.T.cells",
          "neutrophils",
          "regulatory.T.cells",
          "Grand mean",
          "NK.cells",
          "endothelial.cells",
          "fibroblasts",
          "macrophages",
          "memory.CD4.T.cells",
          "memory.CD8.T.cells",
          "monocytes",
          "myeloid.dendritic.cells",
          "naive.B.cells",
          "naive.CD4.T.cells",
          "naive.CD8.T.cells",
          "neutrophils",
          "regulatory.T.cells"
         ],
         "x0": " ",
         "xaxis": "x",
         "y": [
          0.644,
          0.6055555555555556,
          0.9845555555555556,
          0.9463333333333332,
          0.4197777777777778,
          0.07944444444444446,
          0.12811111111111112,
          0.5153333333333333,
          0.5476666666666667,
          0.942888888888889,
          0.5795555555555556,
          0.9268000000000001,
          0.9776,
          0.7148888888888889,
          0.786,
          0.9102222222222223,
          0.979111111111111,
          0.9805555555555555,
          0.6723333333333333,
          0.5224444444444445,
          0.5726666666666667,
          0.7325555555555555,
          0.4683333333333333,
          0.9387777777777777,
          0.7712222222222223,
          0.868,
          0.9984,
          0.8003333333333333,
          0.713,
          0.7693333333333334,
          0.9735555555555556,
          0.8972222222222221,
          0.414,
          0.4698888888888889,
          0.44055555555555553,
          0.6643333333333333,
          0.23088888888888892,
          0.9750000000000001,
          0.7438888888888889,
          0.891,
          0.9932000000000001,
          0.8127777777777777,
          0.64,
          0.8961111111111111,
          0.9042222222222223,
          0.9812222222222222,
          0.2831111111111111,
          0.4404444444444444,
          0.6811111111111111,
          0.6303333333333333,
          0.03833333333333334,
          0.9403333333333332,
          0.5678888888888889,
          0.2468,
          0.9138,
          0.8011111111111111,
          0.616,
          0.6606666666666666,
          0.9306666666666666,
          0.8991111111111112,
          0.4318888888888889,
          0.1938888888888889,
          0.1618888888888889,
          0.596,
          0.6377777777777778,
          0.935,
          0.47500000000000003,
          0.4128,
          0.9064,
          0.7714444444444444,
          0.682,
          0.8833333333333333,
          0.718,
          0.8251111111111111,
          0.46233333333333326,
          0.2644444444444444,
          0.2788888888888889,
          0.7328888888888889,
          0.4568888888888889,
          0.9518888888888889,
          0.7005555555555555,
          0.8458,
          0.9812,
          0.7691111111111111,
          0.754,
          0.8182222222222222,
          0.9762222222222222,
          0.9088888888888889,
          0.5356666666666666,
          0.6812222222222223,
          0.5701111111111111,
          0.8647777777777778,
          -0.004777777777777788,
          0.8001111111111111,
          0.9142222222222222,
          0.9280000000000002,
          0.938,
          0.8758888888888889,
          0.617,
          0.6606666666666666,
          0.9306666666666666,
          0.8991111111111112,
          0.4318888888888889,
          0.1938888888888889,
          0.1618888888888889,
          0.596,
          0.643,
          0.9380000000000001,
          0.47500000000000003,
          0.4128,
          0.9064,
          0.7714444444444444,
          0.667,
          0.9015555555555557,
          0.9299999999999999,
          0.864,
          0.4142222222222222,
          0.32999999999999996,
          0.5225555555555556,
          0.6991111111111111,
          0.49233333333333335,
          0.9153333333333333,
          0.44377777777777777,
          0.6734,
          0.909,
          0.5782222222222222,
          0.193,
          0.3318888888888889,
          -0.07911111111111112,
          0.21766666666666667,
          0.055,
          -0.011333333333333332,
          0.18844444444444444,
          0.07400000000000001,
          0.222,
          0,
          0.12388888888888888,
          0.3074,
          0.6990000000000001,
          0.3867777777777778,
          0.25,
          0.06811111111111111,
          0.5795555555555556,
          0.3877777777777778,
          0.19822222222222222,
          0.026444444444444448,
          0.23877777777777778,
          0.10222222222222221,
          0.38033333333333336,
          -0.03666666666666667,
          0.00888888888888889,
          0.5234,
          0.8656,
          -0.09688888888888889,
          0.619,
          0.6910000000000001,
          0.7768888888888889,
          0.9225555555555555,
          0.3932222222222222,
          0.43377777777777776,
          0.5211111111111112,
          0.5903333333333333,
          0.12000000000000001,
          0.8246666666666667,
          0.5589999999999999,
          0.7748,
          0.9827999999999999,
          0.4538888888888889,
          0.54,
          0.8986666666666666,
          0.7212222222222222,
          0.7906666666666666,
          0.4748888888888889,
          0.38833333333333336,
          0.628,
          0.5676666666666667,
          0.13477777777777777,
          0.42877777777777776,
          0.5651111111111111,
          0.612,
          0.3134,
          0.492,
          0.453,
          0.6666666666666666,
          0.29066666666666663,
          0.4397777777777778,
          0.19122222222222224,
          0.26255555555555554,
          0.5786666666666667,
          0.4794444444444444,
          0.6654444444444444,
          0.06422222222222222,
          0.4388888888888889,
          0.766,
          0.7786000000000001,
          0.26844444444444443,
          0.344,
          0.8218888888888889,
          0.7585555555555555,
          0.8882222222222222,
          0.1708888888888889,
          0.038000000000000006,
          0.0911111111111111,
          0.33222222222222225,
          0.025333333333333333,
          0.328,
          0.13522222222222224,
          0.22480000000000003,
          0.46980000000000005,
          0.18133333333333335,
          null,
          0.8238888888888889,
          null,
          null,
          0.40611111111111114,
          0.5275555555555556,
          null,
          0.6495555555555556,
          0.545,
          0.8956666666666666,
          0.6912222222222222,
          null,
          0.9161999999999999,
          0.422,
          0.75,
          0.8563333333333333,
          0.8995555555555556,
          0.9133333333333334,
          0.6341111111111111,
          0.3523333333333334,
          0.8427777777777777,
          0.7281111111111112,
          0.27744444444444444,
          0.9186666666666667,
          0.6262222222222222,
          0.9098,
          0.9928000000000001,
          0.8038888888888889
         ],
         "y0": " ",
         "yaxis": "y"
        },
        {
         "hoverinfo": "y+name",
         "marker": {
          "color": "yellow",
          "line": {
           "color": "black",
           "width": 2
          },
          "size": 20
         },
         "mode": "markers",
         "name": "YADA",
         "showlegend": true,
         "type": "scatter",
         "x": [
          "NK.cells"
         ],
         "y": [
          0.7762
         ]
        },
        {
         "hoverinfo": "y+name",
         "marker": {
          "color": "yellow",
          "line": {
           "color": "black",
           "width": 2
          },
          "size": 20
         },
         "mode": "markers",
         "name": "YADA",
         "showlegend": false,
         "type": "scatter",
         "x": [
          "macrophages"
         ],
         "y": [
          0.75
         ]
        },
        {
         "hoverinfo": "y+name",
         "marker": {
          "color": "yellow",
          "line": {
           "color": "black",
           "width": 2
          },
          "size": 20
         },
         "mode": "markers",
         "name": "YADA",
         "showlegend": false,
         "type": "scatter",
         "x": [
          "memory.B.cells"
         ],
         "y": [
          0.23600000000000002
         ]
        },
        {
         "hoverinfo": "y+name",
         "marker": {
          "color": "yellow",
          "line": {
           "color": "black",
           "width": 2
          },
          "size": 20
         },
         "mode": "markers",
         "name": "YADA",
         "showlegend": false,
         "type": "scatter",
         "x": [
          "memory.CD4.T.cells"
         ],
         "y": [
          0.678
         ]
        },
        {
         "hoverinfo": "y+name",
         "marker": {
          "color": "yellow",
          "line": {
           "color": "black",
           "width": 2
          },
          "size": 20
         },
         "mode": "markers",
         "name": "YADA",
         "showlegend": false,
         "type": "scatter",
         "x": [
          "memory.CD8.T.cells"
         ],
         "y": [
          0.8275
         ]
        },
        {
         "hoverinfo": "y+name",
         "marker": {
          "color": "yellow",
          "line": {
           "color": "black",
           "width": 2
          },
          "size": 20
         },
         "mode": "markers",
         "name": "YADA",
         "showlegend": false,
         "type": "scatter",
         "x": [
          "monocytes"
         ],
         "y": [
          0.85775
         ]
        },
        {
         "hoverinfo": "y+name",
         "marker": {
          "color": "yellow",
          "line": {
           "color": "black",
           "width": 2
          },
          "size": 20
         },
         "mode": "markers",
         "name": "YADA",
         "showlegend": false,
         "type": "scatter",
         "x": [
          "myeloid.dendritic.cells"
         ],
         "y": [
          0.85875
         ]
        },
        {
         "hoverinfo": "y+name",
         "marker": {
          "color": "yellow",
          "line": {
           "color": "black",
           "width": 2
          },
          "size": 20
         },
         "mode": "markers",
         "name": "YADA",
         "showlegend": false,
         "type": "scatter",
         "x": [
          "naive.B.cells"
         ],
         "y": [
          0.956
         ]
        },
        {
         "hoverinfo": "y+name",
         "marker": {
          "color": "yellow",
          "line": {
           "color": "black",
           "width": 2
          },
          "size": 20
         },
         "mode": "markers",
         "name": "YADA",
         "showlegend": false,
         "type": "scatter",
         "x": [
          "naive.CD4.T.cells"
         ],
         "y": [
          0.424
         ]
        },
        {
         "hoverinfo": "y+name",
         "marker": {
          "color": "yellow",
          "line": {
           "color": "black",
           "width": 2
          },
          "size": 20
         },
         "mode": "markers",
         "name": "YADA",
         "showlegend": false,
         "type": "scatter",
         "x": [
          "naive.CD8.T.cells"
         ],
         "y": [
          0.558
         ]
        },
        {
         "hoverinfo": "y+name",
         "marker": {
          "color": "yellow",
          "line": {
           "color": "black",
           "width": 2
          },
          "size": 20
         },
         "mode": "markers",
         "name": "YADA",
         "showlegend": false,
         "type": "scatter",
         "x": [
          "neutrophils"
         ],
         "y": [
          0.64575
         ]
        },
        {
         "hoverinfo": "y+name",
         "marker": {
          "color": "yellow",
          "line": {
           "color": "black",
           "width": 2
          },
          "size": 20
         },
         "mode": "markers",
         "name": "YADA",
         "showlegend": false,
         "type": "scatter",
         "x": [
          "regulatory.T.cells"
         ],
         "y": [
          0.984
         ]
        },
        {
         "hoverinfo": "y+name",
         "marker": {
          "color": "yellow",
          "line": {
           "color": "black",
           "width": 2
          },
          "size": 20
         },
         "mode": "markers",
         "name": "YADA",
         "showlegend": false,
         "type": "scatter",
         "x": [
          "NK.cells"
         ],
         "y": [
          0.8833333333333333
         ]
        },
        {
         "hoverinfo": "y+name",
         "marker": {
          "color": "yellow",
          "line": {
           "color": "black",
           "width": 2
          },
          "size": 20
         },
         "mode": "markers",
         "name": "YADA",
         "showlegend": false,
         "type": "scatter",
         "x": [
          "macrophages"
         ],
         "y": [
          0.46233333333333326
         ]
        },
        {
         "hoverinfo": "y+name",
         "marker": {
          "color": "yellow",
          "line": {
           "color": "black",
           "width": 2
          },
          "size": 20
         },
         "mode": "markers",
         "name": "YADA",
         "showlegend": false,
         "type": "scatter",
         "x": [
          "memory.CD4.T.cells"
         ],
         "y": [
          0.2644444444444444
         ]
        },
        {
         "hoverinfo": "y+name",
         "marker": {
          "color": "yellow",
          "line": {
           "color": "black",
           "width": 2
          },
          "size": 20
         },
         "mode": "markers",
         "name": "YADA",
         "showlegend": false,
         "type": "scatter",
         "x": [
          "memory.CD8.T.cells"
         ],
         "y": [
          0.2788888888888889
         ]
        },
        {
         "hoverinfo": "y+name",
         "marker": {
          "color": "yellow",
          "line": {
           "color": "black",
           "width": 2
          },
          "size": 20
         },
         "mode": "markers",
         "name": "YADA",
         "showlegend": false,
         "type": "scatter",
         "x": [
          "monocytes"
         ],
         "y": [
          0.7328888888888889
         ]
        },
        {
         "hoverinfo": "y+name",
         "marker": {
          "color": "yellow",
          "line": {
           "color": "black",
           "width": 2
          },
          "size": 20
         },
         "mode": "markers",
         "name": "YADA",
         "showlegend": false,
         "type": "scatter",
         "x": [
          "myeloid.dendritic.cells"
         ],
         "y": [
          0.4568888888888889
         ]
        },
        {
         "hoverinfo": "y+name",
         "marker": {
          "color": "yellow",
          "line": {
           "color": "black",
           "width": 2
          },
          "size": 20
         },
         "mode": "markers",
         "name": "YADA",
         "showlegend": false,
         "type": "scatter",
         "x": [
          "naive.B.cells"
         ],
         "y": [
          0.9518888888888889
         ]
        },
        {
         "hoverinfo": "y+name",
         "marker": {
          "color": "yellow",
          "line": {
           "color": "black",
           "width": 2
          },
          "size": 20
         },
         "mode": "markers",
         "name": "YADA",
         "showlegend": false,
         "type": "scatter",
         "x": [
          "naive.CD4.T.cells"
         ],
         "y": [
          0.7005555555555555
         ]
        },
        {
         "hoverinfo": "y+name",
         "marker": {
          "color": "yellow",
          "line": {
           "color": "black",
           "width": 2
          },
          "size": 20
         },
         "mode": "markers",
         "name": "YADA",
         "showlegend": false,
         "type": "scatter",
         "x": [
          "naive.CD8.T.cells"
         ],
         "y": [
          0.8458
         ]
        },
        {
         "hoverinfo": "y+name",
         "marker": {
          "color": "yellow",
          "line": {
           "color": "black",
           "width": 2
          },
          "size": 20
         },
         "mode": "markers",
         "name": "YADA",
         "showlegend": false,
         "type": "scatter",
         "x": [
          "neutrophils"
         ],
         "y": [
          0.9812
         ]
        },
        {
         "hoverinfo": "y+name",
         "marker": {
          "color": "yellow",
          "line": {
           "color": "black",
           "width": 2
          },
          "size": 20
         },
         "mode": "markers",
         "name": "YADA",
         "showlegend": false,
         "type": "scatter",
         "x": [
          "regulatory.T.cells"
         ],
         "y": [
          0.7691111111111111
         ]
        },
        {
         "hoverinfo": "y+name",
         "marker": {
          "color": "yellow",
          "line": {
           "color": "black",
           "width": 2
          },
          "size": 20
         },
         "mode": "markers",
         "name": "YADA",
         "showlegend": false,
         "type": "scatter",
         "x": [
          "Grand mean"
         ],
         "y": [
          0.682
         ]
        },
        {
         "hoverinfo": "y+name",
         "marker": {
          "color": "yellow",
          "line": {
           "color": "black",
           "width": 2
          },
          "size": 20
         },
         "mode": "markers",
         "name": "YADA",
         "showlegend": false,
         "type": "scatter",
         "x": [
          "endothelial.cells"
         ],
         "y": [
          0.718
         ]
        },
        {
         "hoverinfo": "y+name",
         "marker": {
          "color": "yellow",
          "line": {
           "color": "black",
           "width": 2
          },
          "size": 20
         },
         "mode": "markers",
         "name": "YADA",
         "showlegend": false,
         "type": "scatter",
         "x": [
          "fibroblasts"
         ],
         "y": [
          0.8251111111111111
         ]
        }
       ],
       "layout": {
        "boxgap": 0.1,
        "boxgroupgap": 0.2,
        "boxmode": "group",
        "font": {
         "size": 60
        },
        "height": 2000,
        "legend": {
         "title": {
          "text": "Test"
         },
         "tracegroupgap": 0
        },
        "margin": {
         "t": 200
        },
        "template": {
         "data": {
          "bar": [
           {
            "error_x": {
             "color": "#2a3f5f"
            },
            "error_y": {
             "color": "#2a3f5f"
            },
            "marker": {
             "line": {
              "color": "#E5ECF6",
              "width": 0.5
             },
             "pattern": {
              "fillmode": "overlay",
              "size": 10,
              "solidity": 0.2
             }
            },
            "type": "bar"
           }
          ],
          "barpolar": [
           {
            "marker": {
             "line": {
              "color": "#E5ECF6",
              "width": 0.5
             },
             "pattern": {
              "fillmode": "overlay",
              "size": 10,
              "solidity": 0.2
             }
            },
            "type": "barpolar"
           }
          ],
          "carpet": [
           {
            "aaxis": {
             "endlinecolor": "#2a3f5f",
             "gridcolor": "white",
             "linecolor": "white",
             "minorgridcolor": "white",
             "startlinecolor": "#2a3f5f"
            },
            "baxis": {
             "endlinecolor": "#2a3f5f",
             "gridcolor": "white",
             "linecolor": "white",
             "minorgridcolor": "white",
             "startlinecolor": "#2a3f5f"
            },
            "type": "carpet"
           }
          ],
          "choropleth": [
           {
            "colorbar": {
             "outlinewidth": 0,
             "ticks": ""
            },
            "type": "choropleth"
           }
          ],
          "contour": [
           {
            "colorbar": {
             "outlinewidth": 0,
             "ticks": ""
            },
            "colorscale": [
             [
              0,
              "#0d0887"
             ],
             [
              0.1111111111111111,
              "#46039f"
             ],
             [
              0.2222222222222222,
              "#7201a8"
             ],
             [
              0.3333333333333333,
              "#9c179e"
             ],
             [
              0.4444444444444444,
              "#bd3786"
             ],
             [
              0.5555555555555556,
              "#d8576b"
             ],
             [
              0.6666666666666666,
              "#ed7953"
             ],
             [
              0.7777777777777778,
              "#fb9f3a"
             ],
             [
              0.8888888888888888,
              "#fdca26"
             ],
             [
              1,
              "#f0f921"
             ]
            ],
            "type": "contour"
           }
          ],
          "contourcarpet": [
           {
            "colorbar": {
             "outlinewidth": 0,
             "ticks": ""
            },
            "type": "contourcarpet"
           }
          ],
          "heatmap": [
           {
            "colorbar": {
             "outlinewidth": 0,
             "ticks": ""
            },
            "colorscale": [
             [
              0,
              "#0d0887"
             ],
             [
              0.1111111111111111,
              "#46039f"
             ],
             [
              0.2222222222222222,
              "#7201a8"
             ],
             [
              0.3333333333333333,
              "#9c179e"
             ],
             [
              0.4444444444444444,
              "#bd3786"
             ],
             [
              0.5555555555555556,
              "#d8576b"
             ],
             [
              0.6666666666666666,
              "#ed7953"
             ],
             [
              0.7777777777777778,
              "#fb9f3a"
             ],
             [
              0.8888888888888888,
              "#fdca26"
             ],
             [
              1,
              "#f0f921"
             ]
            ],
            "type": "heatmap"
           }
          ],
          "heatmapgl": [
           {
            "colorbar": {
             "outlinewidth": 0,
             "ticks": ""
            },
            "colorscale": [
             [
              0,
              "#0d0887"
             ],
             [
              0.1111111111111111,
              "#46039f"
             ],
             [
              0.2222222222222222,
              "#7201a8"
             ],
             [
              0.3333333333333333,
              "#9c179e"
             ],
             [
              0.4444444444444444,
              "#bd3786"
             ],
             [
              0.5555555555555556,
              "#d8576b"
             ],
             [
              0.6666666666666666,
              "#ed7953"
             ],
             [
              0.7777777777777778,
              "#fb9f3a"
             ],
             [
              0.8888888888888888,
              "#fdca26"
             ],
             [
              1,
              "#f0f921"
             ]
            ],
            "type": "heatmapgl"
           }
          ],
          "histogram": [
           {
            "marker": {
             "pattern": {
              "fillmode": "overlay",
              "size": 10,
              "solidity": 0.2
             }
            },
            "type": "histogram"
           }
          ],
          "histogram2d": [
           {
            "colorbar": {
             "outlinewidth": 0,
             "ticks": ""
            },
            "colorscale": [
             [
              0,
              "#0d0887"
             ],
             [
              0.1111111111111111,
              "#46039f"
             ],
             [
              0.2222222222222222,
              "#7201a8"
             ],
             [
              0.3333333333333333,
              "#9c179e"
             ],
             [
              0.4444444444444444,
              "#bd3786"
             ],
             [
              0.5555555555555556,
              "#d8576b"
             ],
             [
              0.6666666666666666,
              "#ed7953"
             ],
             [
              0.7777777777777778,
              "#fb9f3a"
             ],
             [
              0.8888888888888888,
              "#fdca26"
             ],
             [
              1,
              "#f0f921"
             ]
            ],
            "type": "histogram2d"
           }
          ],
          "histogram2dcontour": [
           {
            "colorbar": {
             "outlinewidth": 0,
             "ticks": ""
            },
            "colorscale": [
             [
              0,
              "#0d0887"
             ],
             [
              0.1111111111111111,
              "#46039f"
             ],
             [
              0.2222222222222222,
              "#7201a8"
             ],
             [
              0.3333333333333333,
              "#9c179e"
             ],
             [
              0.4444444444444444,
              "#bd3786"
             ],
             [
              0.5555555555555556,
              "#d8576b"
             ],
             [
              0.6666666666666666,
              "#ed7953"
             ],
             [
              0.7777777777777778,
              "#fb9f3a"
             ],
             [
              0.8888888888888888,
              "#fdca26"
             ],
             [
              1,
              "#f0f921"
             ]
            ],
            "type": "histogram2dcontour"
           }
          ],
          "mesh3d": [
           {
            "colorbar": {
             "outlinewidth": 0,
             "ticks": ""
            },
            "type": "mesh3d"
           }
          ],
          "parcoords": [
           {
            "line": {
             "colorbar": {
              "outlinewidth": 0,
              "ticks": ""
             }
            },
            "type": "parcoords"
           }
          ],
          "pie": [
           {
            "automargin": true,
            "type": "pie"
           }
          ],
          "scatter": [
           {
            "fillpattern": {
             "fillmode": "overlay",
             "size": 10,
             "solidity": 0.2
            },
            "type": "scatter"
           }
          ],
          "scatter3d": [
           {
            "line": {
             "colorbar": {
              "outlinewidth": 0,
              "ticks": ""
             }
            },
            "marker": {
             "colorbar": {
              "outlinewidth": 0,
              "ticks": ""
             }
            },
            "type": "scatter3d"
           }
          ],
          "scattercarpet": [
           {
            "marker": {
             "colorbar": {
              "outlinewidth": 0,
              "ticks": ""
             }
            },
            "type": "scattercarpet"
           }
          ],
          "scattergeo": [
           {
            "marker": {
             "colorbar": {
              "outlinewidth": 0,
              "ticks": ""
             }
            },
            "type": "scattergeo"
           }
          ],
          "scattergl": [
           {
            "marker": {
             "colorbar": {
              "outlinewidth": 0,
              "ticks": ""
             }
            },
            "type": "scattergl"
           }
          ],
          "scattermapbox": [
           {
            "marker": {
             "colorbar": {
              "outlinewidth": 0,
              "ticks": ""
             }
            },
            "type": "scattermapbox"
           }
          ],
          "scatterpolar": [
           {
            "marker": {
             "colorbar": {
              "outlinewidth": 0,
              "ticks": ""
             }
            },
            "type": "scatterpolar"
           }
          ],
          "scatterpolargl": [
           {
            "marker": {
             "colorbar": {
              "outlinewidth": 0,
              "ticks": ""
             }
            },
            "type": "scatterpolargl"
           }
          ],
          "scatterternary": [
           {
            "marker": {
             "colorbar": {
              "outlinewidth": 0,
              "ticks": ""
             }
            },
            "type": "scatterternary"
           }
          ],
          "surface": [
           {
            "colorbar": {
             "outlinewidth": 0,
             "ticks": ""
            },
            "colorscale": [
             [
              0,
              "#0d0887"
             ],
             [
              0.1111111111111111,
              "#46039f"
             ],
             [
              0.2222222222222222,
              "#7201a8"
             ],
             [
              0.3333333333333333,
              "#9c179e"
             ],
             [
              0.4444444444444444,
              "#bd3786"
             ],
             [
              0.5555555555555556,
              "#d8576b"
             ],
             [
              0.6666666666666666,
              "#ed7953"
             ],
             [
              0.7777777777777778,
              "#fb9f3a"
             ],
             [
              0.8888888888888888,
              "#fdca26"
             ],
             [
              1,
              "#f0f921"
             ]
            ],
            "type": "surface"
           }
          ],
          "table": [
           {
            "cells": {
             "fill": {
              "color": "#EBF0F8"
             },
             "line": {
              "color": "white"
             }
            },
            "header": {
             "fill": {
              "color": "#C8D4E3"
             },
             "line": {
              "color": "white"
             }
            },
            "type": "table"
           }
          ]
         },
         "layout": {
          "annotationdefaults": {
           "arrowcolor": "#2a3f5f",
           "arrowhead": 0,
           "arrowwidth": 1
          },
          "autotypenumbers": "strict",
          "coloraxis": {
           "colorbar": {
            "outlinewidth": 0,
            "ticks": ""
           }
          },
          "colorscale": {
           "diverging": [
            [
             0,
             "#8e0152"
            ],
            [
             0.1,
             "#c51b7d"
            ],
            [
             0.2,
             "#de77ae"
            ],
            [
             0.3,
             "#f1b6da"
            ],
            [
             0.4,
             "#fde0ef"
            ],
            [
             0.5,
             "#f7f7f7"
            ],
            [
             0.6,
             "#e6f5d0"
            ],
            [
             0.7,
             "#b8e186"
            ],
            [
             0.8,
             "#7fbc41"
            ],
            [
             0.9,
             "#4d9221"
            ],
            [
             1,
             "#276419"
            ]
           ],
           "sequential": [
            [
             0,
             "#0d0887"
            ],
            [
             0.1111111111111111,
             "#46039f"
            ],
            [
             0.2222222222222222,
             "#7201a8"
            ],
            [
             0.3333333333333333,
             "#9c179e"
            ],
            [
             0.4444444444444444,
             "#bd3786"
            ],
            [
             0.5555555555555556,
             "#d8576b"
            ],
            [
             0.6666666666666666,
             "#ed7953"
            ],
            [
             0.7777777777777778,
             "#fb9f3a"
            ],
            [
             0.8888888888888888,
             "#fdca26"
            ],
            [
             1,
             "#f0f921"
            ]
           ],
           "sequentialminus": [
            [
             0,
             "#0d0887"
            ],
            [
             0.1111111111111111,
             "#46039f"
            ],
            [
             0.2222222222222222,
             "#7201a8"
            ],
            [
             0.3333333333333333,
             "#9c179e"
            ],
            [
             0.4444444444444444,
             "#bd3786"
            ],
            [
             0.5555555555555556,
             "#d8576b"
            ],
            [
             0.6666666666666666,
             "#ed7953"
            ],
            [
             0.7777777777777778,
             "#fb9f3a"
            ],
            [
             0.8888888888888888,
             "#fdca26"
            ],
            [
             1,
             "#f0f921"
            ]
           ]
          },
          "colorway": [
           "#636efa",
           "#EF553B",
           "#00cc96",
           "#ab63fa",
           "#FFA15A",
           "#19d3f3",
           "#FF6692",
           "#B6E880",
           "#FF97FF",
           "#FECB52"
          ],
          "font": {
           "color": "#2a3f5f"
          },
          "geo": {
           "bgcolor": "white",
           "lakecolor": "white",
           "landcolor": "#E5ECF6",
           "showlakes": true,
           "showland": true,
           "subunitcolor": "white"
          },
          "hoverlabel": {
           "align": "left"
          },
          "hovermode": "closest",
          "mapbox": {
           "style": "light"
          },
          "paper_bgcolor": "white",
          "plot_bgcolor": "#E5ECF6",
          "polar": {
           "angularaxis": {
            "gridcolor": "white",
            "linecolor": "white",
            "ticks": ""
           },
           "bgcolor": "#E5ECF6",
           "radialaxis": {
            "gridcolor": "white",
            "linecolor": "white",
            "ticks": ""
           }
          },
          "scene": {
           "xaxis": {
            "backgroundcolor": "#E5ECF6",
            "gridcolor": "white",
            "gridwidth": 2,
            "linecolor": "white",
            "showbackground": true,
            "ticks": "",
            "zerolinecolor": "white"
           },
           "yaxis": {
            "backgroundcolor": "#E5ECF6",
            "gridcolor": "white",
            "gridwidth": 2,
            "linecolor": "white",
            "showbackground": true,
            "ticks": "",
            "zerolinecolor": "white"
           },
           "zaxis": {
            "backgroundcolor": "#E5ECF6",
            "gridcolor": "white",
            "gridwidth": 2,
            "linecolor": "white",
            "showbackground": true,
            "ticks": "",
            "zerolinecolor": "white"
           }
          },
          "shapedefaults": {
           "line": {
            "color": "#2a3f5f"
           }
          },
          "ternary": {
           "aaxis": {
            "gridcolor": "white",
            "linecolor": "white",
            "ticks": ""
           },
           "baxis": {
            "gridcolor": "white",
            "linecolor": "white",
            "ticks": ""
           },
           "bgcolor": "#E5ECF6",
           "caxis": {
            "gridcolor": "white",
            "linecolor": "white",
            "ticks": ""
           }
          },
          "title": {
           "x": 0.05
          },
          "xaxis": {
           "automargin": true,
           "gridcolor": "white",
           "linecolor": "white",
           "ticks": "",
           "title": {
            "standoff": 15
           },
           "zerolinecolor": "white",
           "zerolinewidth": 2
          },
          "yaxis": {
           "automargin": true,
           "gridcolor": "white",
           "linecolor": "white",
           "ticks": "",
           "title": {
            "standoff": 15
           },
           "zerolinecolor": "white",
           "zerolinewidth": 2
          }
         }
        },
        "title": {
         "text": "Metric Values by Celltype and Test"
        },
        "width": 6000,
        "xaxis": {
         "anchor": "y",
         "domain": [
          0,
          1
         ],
         "title": {
          "text": "Celltype"
         },
         "type": "category"
        },
        "yaxis": {
         "anchor": "x",
         "domain": [
          0,
          1
         ],
         "title": {
          "text": "Metric Value"
         }
        }
       }
      }
     },
     "metadata": {},
     "output_type": "display_data"
    }
   ],
   "source": [
    "import pandas as pd\n",
    "import plotly.express as px\n",
    "import plotly.graph_objects as go\n",
    "import plotly.io as pio\n",
    "\n",
    "\n",
    "# Load and prepare the first DataFrame\n",
    "df1 = pd.read_csv('./r3-fine.csv')\n",
    "df1 = df1[df1.is_latest & (df1.metric == 'pearson')]\n",
    "# Select only numeric columns for aggregation, excluding 'submitter' and 'celltype' from the mean calculation\n",
    "numeric_cols = df1.select_dtypes(include=['number']).columns.tolist()\n",
    "# Make sure to include 'submitter' and 'celltype' for grouping\n",
    "grouping_cols = ['submitter', 'celltype']\n",
    "# Group by 'submitter' and 'celltype', then calculate mean only for numeric columns\n",
    "df1 = df1.groupby(grouping_cols, as_index=False)[numeric_cols].mean()\n",
    "df1['Test'] = 'round3'\n",
    "\n",
    "# Load and prepare the second DataFrame\n",
    "df2 = pd.read_csv('./r4-fine.csv')\n",
    "df2 = df2[df2.is_latest & (df2.metric == 'pearson')]\n",
    "# Select only numeric columns for aggregation, excluding 'submitter' and 'celltype' from the mean calculation\n",
    "numeric_cols = df2.select_dtypes(include=['number']).columns.tolist()\n",
    "# Make sure to include 'submitter' and 'celltype' for grouping\n",
    "grouping_cols = ['submitter', 'celltype']\n",
    "# Group by 'submitter' and 'celltype', then calculate mean only for numeric columns\n",
    "df2 = df2.groupby(grouping_cols, as_index=False)[numeric_cols].mean()\n",
    "df2['Test'] = 'round4'\n",
    "\n",
    "# Combine the DataFrames\n",
    "df_combined = pd.concat([df1, df2])\n",
    "\n",
    "# Initialize the figure\n",
    "#fig = go.Figure()\n",
    "# Assuming df_combined is your prepared DataFrame\n",
    "fig = px.box(df_combined, y='metric_value', x='celltype', color='Test',\n",
    "             hover_name='submitter', points='all', height=2000, width=6000, #2000, 6000\n",
    "             category_orders={\"Test\": [\"round3\", \"round4\"]})\n",
    "#fig.update_layout(font=dict(size=24), height=1000, width=2500)\n",
    "\n",
    "# Track whether the D3Team legend item has been added\n",
    "d3team_legend_added = False\n",
    "\n",
    "# Highlight 'D3Team'\n",
    "for test in df_combined['Test'].unique():\n",
    "    for celltype in df_combined['celltype'].unique():\n",
    "        df_d3team = df_combined[(df_combined['Test'] == test) & (df_combined['celltype'] == celltype) & (df_combined['submitter'] == 'D3Team')]\n",
    "        if not df_d3team.empty:\n",
    "            fig.add_trace(go.Scatter(\n",
    "                y=df_d3team['metric_value'],\n",
    "                x=df_d3team['celltype'],\n",
    "                name=f\"YADA\",\n",
    "                mode='markers',\n",
    "                marker=dict(\n",
    "                    color='yellow',  # A bright color for high visibility\n",
    "                    size=20,  # Larger size to stand out\n",
    "                    line=dict(\n",
    "                        color='black',  # Add a border to increase visibility\n",
    "                        width=2\n",
    "                    )\n",
    "                ),\n",
    "                hoverinfo='y+name',\n",
    "                showlegend=not d3team_legend_added  # Only show legend for the first D3Team scatter trace\n",
    "            ))\n",
    "            d3team_legend_added = True  # Ensure legend is not added for subsequent D3Team traces\n",
    "\n",
    "# Update layout\n",
    "fig.update_layout(\n",
    "    title=\"Metric Values by Celltype and Test\",\n",
    "    xaxis=dict(title=\"Celltype\", type='category'),\n",
    "    yaxis_title=\"Metric Value\",\n",
    "    margin=dict(t=200),  # Increase top margin\n",
    "    font=dict(size=60),\n",
    "    boxmode='group',  # Group boxes together by celltype\n",
    "    boxgap=0.1,  # Decrease for narrower gaps between boxes\n",
    "    boxgroupgap=0.2  # Decrease for narrower gaps between groups of boxes\n",
    ")\n",
    "\n",
    "fig.show()\n"
   ]
  },
  {
   "cell_type": "code",
   "execution_count": 5,
   "metadata": {},
   "outputs": [],
   "source": [
    "# Export to SVG\n",
    "pio.write_image(fig, 'c:\\\\Users\\\\danili\\\\Documents\\\\GitHub\\\\Yada\\\\data\\\\Challenge\\\\histogram.svg', height=3000, width=6000, format='svg')"
   ]
  }
 ],
 "metadata": {
  "colab": {
   "collapsed_sections": [],
   "name": "Yada.ipynb",
   "provenance": []
  },
  "kernelspec": {
   "display_name": "Python 3 (ipykernel)",
   "language": "python",
   "name": "python3"
  },
  "language_info": {
   "codemirror_mode": {
    "name": "ipython",
    "version": 3
   },
   "file_extension": ".py",
   "mimetype": "text/x-python",
   "name": "python",
   "nbconvert_exporter": "python",
   "pygments_lexer": "ipython3",
   "version": "3.12.1"
  }
 },
 "nbformat": 4,
 "nbformat_minor": 1
}
